{
 "cells": [
  {
   "cell_type": "markdown",
   "id": "729bc77a",
   "metadata": {},
   "source": [
    "# Conditional statements\n",
    "\n",
    "\n",
    "<div class=\"alert alert-block alert-info\">\n",
    "    You can find all of the scripts in this notebook in the subdirectory containing this notebook:\n",
    "    <code>./scripts/conditional_statements</code>\n",
    "</div>\n",
    "\n",
    "The Bash `if` statement has the following form:\n",
    "\n",
    "```sh\n",
    "if test-commands; then\n",
    "    commands\n",
    "elif test-commands; then\n",
    "    commands\n",
    "else\n",
    "    commands\n",
    "fi\n",
    "```\n",
    "\n",
    "The semi-colon `;` is a standard shell symbol used to separate commands and is required between the\n",
    "`test-commands` and the `then` keyword when the `then` appears on the same line as the condition. Alternatively,\n",
    "an `if` statement may be written as:\n",
    "\n",
    "```sh\n",
    "if test-commands\n",
    "then\n",
    "    commands\n",
    "elif test-commands\n",
    "then\n",
    "    commands\n",
    "else\n",
    "    commands\n",
    "fi\n",
    "```\n",
    "\n",
    "The unusual feature of the Bash `if` statement is the use of commands as the test condition."
   ]
  },
  {
   "cell_type": "markdown",
   "id": "8d1ea0d4",
   "metadata": {},
   "source": [
    "## Command exit status as a condition\n",
    "\n",
    "Recall that all commands should produce an integer exit status where a value of `0` indicates success and any\n",
    "non-zero integer value indicates a failure of some kind. An `if` statement can use the exit status of a\n",
    "command or commands (called `test-commands` above) as a condition. If `test-commands` has an exit status\n",
    "of `0` then the condition is deemed to be true, otherwise the condition is deemed to be false.\n",
    "\n",
    "<div class=\"alert alert-block alert-info\">\n",
    "    The command `true` always successfully does nothing and sets its exit status to `0`. The command\n",
    "    `false` always successfully does nothing and sets its exit status to `1`. Thus the statement\n",
    "    <code>if true; then echo \"true\"; fi</code> always prints <code>true</code> and the statement\n",
    "    <code>if false; then echo \"false\"; fi</code> always prints nothing.\n",
    "</div>\n",
    "\n",
    "Consider the following script that accepts one command line parameter being the path to a directory; the script\n",
    "attempts to change to the directory and then list the contents of the directory:\n",
    "\n",
    "---\n",
    "\n",
    "```sh\n",
    "#!/bin/bash\n",
    "\n",
    "# cdls.sh\n",
    "\n",
    "if cd \"$1\"\n",
    "then\n",
    "    # cd successful\n",
    "    ls\n",
    "else\n",
    "    # cd unsuccessful\n",
    "    echo \"error changing to directory $1\" >&2\n",
    "    exit 1\n",
    "fi\n",
    "```\n",
    "\n",
    "---\n",
    "\n",
    "In the script above, the exit status of the `cd` command is used to determine if the directory specified\n",
    "by the caller of the script exists and if the user has execute permission. If so, then the script attempts\n",
    "to list the contents of the directory, otherwise an error message is output and the script exits.\n",
    "\n",
    "The following cell calls `cdls.sh` using the current directory as a command line argument:"
   ]
  },
  {
   "cell_type": "code",
   "execution_count": null,
   "id": "d38d403f",
   "metadata": {},
   "outputs": [],
   "source": [
    "./scripts/conditional_statements/cdls.sh ."
   ]
  },
  {
   "cell_type": "markdown",
   "id": "de2b4138",
   "metadata": {},
   "source": [
    "The following cell calls `cdls.sh` with a non-existant directory name:"
   ]
  },
  {
   "cell_type": "code",
   "execution_count": null,
   "id": "c8124fc3",
   "metadata": {},
   "outputs": [],
   "source": [
    "./scripts/conditional_statements/cdls.sh /bad_dirname"
   ]
  },
  {
   "cell_type": "markdown",
   "id": "f002d264",
   "metadata": {},
   "source": [
    "Notice that the error output produced by the `cd` command appears in the script output. It is common when\n",
    "using the exit status of a command as a condition to not want the output of the command to appear. In this\n",
    "case, we can redirect the standard error output of `cd` to `/dev/null`.\n",
    "\n",
    "<div class=\"alert alert-block alert-info\">\n",
    "    <code>/dev/null</code> on UNIX systems is the <it>null device</it> represented by a file that discards\n",
    "    everything written to it and reports that the write operation was successful.\n",
    "</div>\n",
    "\n",
    "---\n",
    "```sh\n",
    "#!/bin/bash\n",
    "\n",
    "# cdls2.sh\n",
    "\n",
    "if cd \"$1\" 2> /dev/null      # discard standard error output of cd command\n",
    "then\n",
    "    # cd successful\n",
    "    ls\n",
    "else\n",
    "    # cd unsuccessful\n",
    "    echo \"error changing to directory $1\" >&2\n",
    "    exit 1\n",
    "fi\n",
    "```\n",
    "---\n",
    "\n",
    "Calling `cdls2.sh` with a non-existant directory name does not produce the error message from `cd`:"
   ]
  },
  {
   "cell_type": "code",
   "execution_count": null,
   "id": "6a553c0a",
   "metadata": {},
   "outputs": [],
   "source": [
    "./scripts/conditional_statements/cdls2.sh /bad_dirname"
   ]
  },
  {
   "cell_type": "markdown",
   "id": "986755a2",
   "metadata": {},
   "source": [
    "## The `[[ ]]` construct\n",
    "\n",
    "To use a logical expression as a condition, we require a command that can evaluate the expression and return\n",
    "the appropriate exit status (`0` for true and non-zero for false). The standard UNIX command that performs\n",
    "this task is called `test`. The short hand for the `test` command is to embed the logical expression inside\n",
    "of single square brackets `[ ]`.\n",
    "If you need to write a script that (should) work on a variety of UNIX systems, then you should learn how\n",
    "to use `test` or `[]` for evaluating logical expressions.\n",
    "\n",
    "Bash and a few other shells (including zsh used as the default shell in macOS) provide a double square bracket\n",
    "construct `[[ ]]` to evaluate logical expressions. Compared to `test`, `[[ ]]` has fewer\n",
    "surprises and is considered easier to use. The differences between `test` and `[[ ]]` are well documented\n",
    "[here](http://mywiki.wooledge.org/BashFAQ/031).\n",
    "\n",
    "If *expr* is a logical expression then ``[[ `` *expr* `` ]]`` evaluates to `0` if *expr* evaluates to true and\n",
    "`1` if *expr* evaluates to false. Notice the space after the second `[` and before the first `]`.\n",
    "\n",
    "<div class=\"alert alert-block alert-warning\">\n",
    "    The space before and after the logical expression is required so that Bash can correctly parse\n",
    "    the construct. Failure to include either space results in unusual errors.\n",
    "</div>\n",
    "\n",
    "\n",
    "\n",
    "### No word splitting or filename expansions occur inside `[[ ]]`\n",
    "\n",
    "Word splitting and filename expansions are suppressed inside of `[[ ]]`. This means that variable\n",
    "expansions usually do not need to be double quoted inside of `[[ ]]`.\n",
    "\n",
    "\n",
    "### Types of expressions\n",
    "\n",
    "Broadly speaking, there are five different kinds of expresssions that `[[ ]]` can use:\n",
    "\n",
    "1. miscellaneous expressions (those that do not fit in any of the remaining categories)\n",
    "2. file expressions\n",
    "3. string expressions\n",
    "4. integer expressions\n",
    "5. string regex expressions\n",
    "\n",
    "A complete list of expressions can be found at https://www.gnu.org/software/bash/manual/html_node/Bash-Conditional-Expressions.html. The table below lists some of the more commonly used expressions:\n",
    "\n",
    "| Expression                | Evaluates to true if ...                      |\n",
    "|:--------------------------|:----------------------------------------------|\n",
    "| **miscellaneous expressions** | |\n",
    "| `-v` *varname*            | the variable *varname* has been assigned a value           |\n",
    "| **file expressions** | |\n",
    "| `-d` *file*               | *file* is a directory                         |\n",
    "| `-e` *file*               | *file* exists (can be any kind of file)       |\n",
    "| `-f` *file*               | *file* exists and is a regular file           |\n",
    "| `-r` *file*               | *file* exists and is readable                 |\n",
    "| `-w` *file*               | *file* exists and is writable                 |\n",
    "| `-x` *file*               | *file* exists and is executable               |\n",
    "| `-s` *file*               | *file* exists and has size greater than zero  |\n",
    "| *file1* `-nt` *file2*     | *file1* is newer by modification time than *file2*, or *file1* exists and *file2* does not |\n",
    "| *file1* `-ot` *file2*     | *file1* is older by modification time than *file2*, or *file2* exists and *file1* does not |\n",
    "| **string expressions** | |\n",
    "| *string*                  | the length of *string* is not zero            |\n",
    "| `-n` string               | the length of *string* is greater than zero   |\n",
    "| `-z` string               | the length of *string* is equal to zero       |\n",
    "| string1 `=` string2       | *string1* is equal to *string2*               |\n",
    "| string1 `==` string2      | *string1* is equal to *string2*               |\n",
    "| string1 `=~` string2      | *string1* matches the regular expression *string2* |\n",
    "| string1 `!=` string2      | *string1* is not equal to *string2*           |\n",
    "| string1 `>` string2       | *string1* comes after *string2* lexicographically     |\n",
    "| string1 `<` string2       | *string1* comes before *string2* lexicographically    |\n",
    "| **integer expressions** | |\n",
    "| int1 `-eq` int2           | *int1* is equal to *int2*                             |\n",
    "| int1 `-ne` int2           | *int1* is not equal to *int2*                         |\n",
    "| int1 `-le` int2           | *int1* is less than or equal to *int2*                |\n",
    "| int1 `-lt` int2           | *int1* is less than *int2*                            |\n",
    "| int1 `-ge` int2           | *int1* is greater than or equal to *int2*             |\n",
    "| int1 `-gt` int2           | *int1* is greater than *int2*                         |"
   ]
  },
  {
   "cell_type": "markdown",
   "id": "e171ac8d",
   "metadata": {},
   "source": [
    "### Miscellaneous expression example\n",
    "\n",
    "When using `-v` *varname* it is important to remember that *varname* is the name of the variable; *do not* use\n",
    "`$` to get the value of the variable:"
   ]
  },
  {
   "cell_type": "code",
   "execution_count": null,
   "id": "7f80816a",
   "metadata": {},
   "outputs": [],
   "source": [
    "# unset unsets or removes a variable\n",
    "# We use it here in case you have some other cell in this notebook that has created a variable\n",
    "# named x. You would not normally have do this in a script.\n",
    "unset x\n",
    "\n",
    "if [[ -v x ]]; then\n",
    "    echo \"x assigned\"\n",
    "else \n",
    "    echo \"x not assigned\"\n",
    "fi"
   ]
  },
  {
   "cell_type": "code",
   "execution_count": null,
   "id": "151ede7a",
   "metadata": {},
   "outputs": [],
   "source": [
    "x=anything                       # anything can be empty string\n",
    "if [[ -v x ]]; then\n",
    "    echo \"x assigned\"\n",
    "else \n",
    "    echo \"x not assigned\"\n",
    "fi"
   ]
  },
  {
   "cell_type": "markdown",
   "id": "84888a6f",
   "metadata": {},
   "source": [
    "### File expression examples\n",
    "\n",
    "Files are fundamental in UNIX, so it is not surprising that there are expressions for testing the attributes\n",
    "of files. The following script uses several file exression tests to query the status of a specified file:\n",
    "\n",
    "---\n",
    "\n",
    "```sh\n",
    "#!/bin/bash\n",
    "#\n",
    "# test_file.sh: Evaluate the status of a file\n",
    "\n",
    "file=$1\n",
    "if [[ -e $file ]]; then                # no need to double quote $file\n",
    "                                       # because word splitting is suppressed\n",
    "  if [[ -f $file ]]; then\n",
    "    echo \"$file is a regular file\"\n",
    "  fi\n",
    "  if [[ -d $file ]]; then\n",
    "    echo \"$file is a directory\"\n",
    "  fi\n",
    "  if [[ -r $file ]]; then\n",
    "    echo \"$file is readable\"\n",
    "  fi\n",
    "  if [[ -w $file ]]; then\n",
    "    echo \"$file is writable\"\n",
    "  fi\n",
    "  if [[ -x $file ]]; then\n",
    "    echo \"$file is executable\"\n",
    "  fi\n",
    "else\n",
    "  echo \"$file does not exist\"\n",
    "  exit 1\n",
    "fi\n",
    "```\n",
    "\n",
    "---"
   ]
  },
  {
   "cell_type": "code",
   "execution_count": null,
   "id": "7ec0a456",
   "metadata": {},
   "outputs": [],
   "source": [
    "# test a directory\n",
    "./scripts/conditional_statements/test_file.sh scripts"
   ]
  },
  {
   "cell_type": "code",
   "execution_count": null,
   "id": "6872055d",
   "metadata": {},
   "outputs": [],
   "source": [
    "# test a regular file\n",
    "./scripts/conditional_statements/test_file.sh conditional_statements.ipynb"
   ]
  },
  {
   "cell_type": "code",
   "execution_count": null,
   "id": "cb056ec5",
   "metadata": {},
   "outputs": [],
   "source": [
    "# test a non-existant file\n",
    "./scripts/conditional_statements/test_file.sh no_such_file"
   ]
  },
  {
   "cell_type": "markdown",
   "id": "c6fb51a7",
   "metadata": {},
   "source": [
    "Using a file expression, we can test if a file exists before overwriting it in our `namedsh.sh` script:\n",
    "\n",
    "---\n",
    "\n",
    "```sh\n",
    "#!/bin/bash\n",
    "\n",
    "# namedsh.sh\n",
    "\n",
    "if [[ -e $1 ]]; then\n",
    "    # oops, specified file already exists\n",
    "    echo \"namedsh.sh: $1 already exists\" >&2\n",
    "    exit 1\n",
    "fi\n",
    "\n",
    "# specified does not exist, go ahead and create it\n",
    "echo '#!/bin/bash' > ${1}\n",
    "chmod u+x ${1}\n",
    "```\n",
    "\n",
    "---"
   ]
  },
  {
   "cell_type": "markdown",
   "id": "e7d0003e",
   "metadata": {},
   "source": [
    "### String expressions\n",
    "\n",
    "String expressions allow the programmer to test for conditions involving strings. Regular expression \n",
    "matching using `=~` is covered in the Regular Expresssion notebook.\n",
    "\n",
    "Testing for a non-empty string can be performed with just the name of the string:"
   ]
  },
  {
   "cell_type": "code",
   "execution_count": null,
   "id": "2490d95f",
   "metadata": {},
   "outputs": [],
   "source": [
    "s=\"\"                    # the empty string; change this to see the opposite result\n",
    "if [[ $s ]]; then       # $s because we want the value (string) stored in s\n",
    "    echo \"not empty\"\n",
    "else\n",
    "    echo \"empty\"\n",
    "fi"
   ]
  },
  {
   "cell_type": "markdown",
   "id": "c3d6bf6b",
   "metadata": {},
   "source": [
    "Use `-z` if you want to test for an empty string:"
   ]
  },
  {
   "cell_type": "code",
   "execution_count": null,
   "id": "4680b5be",
   "metadata": {},
   "outputs": [],
   "source": [
    "s=\"\"                    # the empty string; change this to see the opposite result\n",
    "if [[ -z $s ]]; then\n",
    "    echo \"empty\"\n",
    "else\n",
    "    echo \"not empty\"\n",
    "fi"
   ]
  },
  {
   "cell_type": "markdown",
   "id": "75549c74",
   "metadata": {},
   "source": [
    "Lexicographical comparisons of strings (not integers!) are performed using `=` or `==`, `<` and `>`:\n",
    "\n",
    "---\n",
    "\n",
    "```sh\n",
    "#!/bin/bash\n",
    "\n",
    "# compstr.sh : Java-like compareTo comparison of strings\n",
    "\n",
    "s1=$1\n",
    "s2=$2\n",
    "if [[ $s1 == $s2 ]]; then\n",
    "    echo 0\n",
    "elif [[ $s1 < $s2 ]]; then\n",
    "    echo -1\n",
    "else\n",
    "    echo 1\n",
    "fi\n",
    "```\n",
    "\n",
    "---"
   ]
  },
  {
   "cell_type": "code",
   "execution_count": null,
   "id": "b838dbc7",
   "metadata": {},
   "outputs": [],
   "source": [
    "./scripts/conditional_statements/compstr.sh \"cat\" \"cat\"            # equal strings"
   ]
  },
  {
   "cell_type": "code",
   "execution_count": null,
   "id": "9cf25c06",
   "metadata": {},
   "outputs": [],
   "source": [
    "./scripts/conditional_statements/compstr.sh \"antelope\" \"zebra\"     # antelope comes before zebra"
   ]
  },
  {
   "cell_type": "code",
   "execution_count": null,
   "id": "67b573e2",
   "metadata": {},
   "outputs": [],
   "source": [
    "./scripts/conditional_statements/compstr.sh \"tiger\" \"poodle\"       # tiger comes after poodle"
   ]
  },
  {
   "cell_type": "markdown",
   "id": "0591f773",
   "metadata": {},
   "source": [
    "Beware that inside `[[ ]]` the operators `==`, `<`, and `>` are string comparison operators. Integer values\n",
    "are not compared numerically in such cases (they are compared lexicographically as strings):"
   ]
  },
  {
   "cell_type": "code",
   "execution_count": null,
   "id": "1f977246",
   "metadata": {},
   "outputs": [],
   "source": [
    "./scripts/conditional_statements/compstr.sh 100 2                 # \"100\" comes before \"2\" lexicographically"
   ]
  },
  {
   "cell_type": "markdown",
   "id": "dc00d252",
   "metadata": {},
   "source": [
    "#### Pattern matching in string expressions\n",
    "\n",
    "`==` and `!=` are the equals and not-equals operators. When comparing two strings:\n",
    "\n",
    "```sh\n",
    "if [[ $left == $right ]]; then\n",
    "```\n",
    "\n",
    "or\n",
    "\n",
    "```sh\n",
    "if [[ $left != $right ]]; then\n",
    "```\n",
    "\n",
    "the string `$right` is considered to be a pattern as long as `$right` is not quoted. This means that the characters `*`, `?`, `[`, and `]` have special meaning if they\n",
    "are part of an unquoted string appearing on the right-hand side of `==` or `!=`.\n",
    "\n",
    "Recall that in pattern matching the `*` matches any sequence of characters (including the empty string). We can test\n",
    "if a string `str` starts with the letter `a` by matching against the pattern `a*`:"
   ]
  },
  {
   "cell_type": "code",
   "execution_count": null,
   "id": "f57fa209",
   "metadata": {},
   "outputs": [],
   "source": [
    "str=\"avocado\"\n",
    "if [[ $str == a* ]]; then\n",
    "    echo \"starts with a\"\n",
    "else\n",
    "    echo \"does not start with a\"\n",
    "fi"
   ]
  },
  {
   "cell_type": "markdown",
   "id": "4face1f9",
   "metadata": {},
   "source": [
    "Recall that in pattern matching the `?` matches any single (non-empty) character.  The pattern `a*a` matches\n",
    "any three letter string starting and ending with `a`:"
   ]
  },
  {
   "cell_type": "code",
   "execution_count": 4,
   "id": "96236071",
   "metadata": {},
   "outputs": [
    {
     "name": "stdout",
     "output_type": "stream",
     "text": [
      "does not match\r\n",
      "\n"
     ]
    }
   ],
   "source": [
    "str=\"ada\"\n",
    "if [[ $str == a*a ]]; then\n",
    "    echo \"matches\"\n",
    "else\n",
    "    echo \"does not match\"\n",
    "fi"
   ]
  },
  {
   "cell_type": "markdown",
   "id": "52fb0998",
   "metadata": {},
   "source": [
    "Recall that in pattern matching `[ ]` allows the programmer to specify a set of characters to match and that\n",
    "character classes can be used. We can test if a string `str` matches the format of a Canadian postal code like so:"
   ]
  },
  {
   "cell_type": "code",
   "execution_count": null,
   "id": "713d4ecb",
   "metadata": {},
   "outputs": [],
   "source": [
    "str=\"K7L3N6\"\n",
    "if [[ $str == [A-Z][0-9][A-Z][0-9][A-Z][0-9] ]]; then\n",
    "    echo \"might be a postal code\"\n",
    "else\n",
    "    echo \"not a postal code\"\n",
    "fi"
   ]
  },
  {
   "cell_type": "markdown",
   "id": "2790e20d",
   "metadata": {},
   "source": [
    "### Integer expressions\n",
    "\n",
    "Integer values can be compared using an integer expression or using an arithmetic expansion\n",
    "(see the *Arithmetic* notebook).\n",
    "\n",
    "A script to perform a Java-like compareTo comparison of integer values might be written like so\n",
    "(other implementations are possible):\n",
    "\n",
    "---\n",
    "\n",
    "```sh\n",
    "#!/bin/bash\n",
    "\n",
    "# compint.sh : Java-like compareTo comparison of integers\n",
    "\n",
    "i1=$1\n",
    "i2=$2\n",
    "if [[ $i1 -ne $i2 ]]; then           # not equal\n",
    "    if [[ $i1 -lt $i2 ]]; then           # less than\n",
    "        echo -1\n",
    "    else\n",
    "        echo 1\n",
    "    fi\n",
    "else \n",
    "    echo 0\n",
    "fi\n",
    "```\n",
    "\n",
    "---"
   ]
  },
  {
   "cell_type": "code",
   "execution_count": null,
   "id": "c2deead6",
   "metadata": {},
   "outputs": [],
   "source": [
    "./scripts/conditional_statements/compint.sh 5 5            # 5 is equal to 5"
   ]
  },
  {
   "cell_type": "code",
   "execution_count": null,
   "id": "9b58e9b9",
   "metadata": {},
   "outputs": [],
   "source": [
    "./scripts/conditional_statements/compint.sh -3 12          # -3 is less than 12"
   ]
  },
  {
   "cell_type": "code",
   "execution_count": null,
   "id": "02d7375e",
   "metadata": {},
   "outputs": [],
   "source": [
    "./scripts/conditional_statements/compint.sh 22 21          # 22 is greater than 21"
   ]
  },
  {
   "cell_type": "markdown",
   "id": "5f91fb57",
   "metadata": {},
   "source": [
    "In most cases, if a non-integer value is used in an integer expression then no error occurs; instead the value\n",
    "is treated as zero:"
   ]
  },
  {
   "cell_type": "code",
   "execution_count": null,
   "id": "c9de63bf",
   "metadata": {},
   "outputs": [],
   "source": [
    "./scripts/conditional_statements/compint.sh hello goodbye         # 0 is equal to 0"
   ]
  },
  {
   "cell_type": "code",
   "execution_count": null,
   "id": "60a93edd",
   "metadata": {},
   "outputs": [],
   "source": [
    "./scripts/conditional_statements/compint.sh abc 3                 # 0 is less than 3"
   ]
  },
  {
   "cell_type": "code",
   "execution_count": null,
   "id": "d73e023f",
   "metadata": {},
   "outputs": [],
   "source": [
    "./scripts/conditional_statements/compint.sh 12 xyz                # 12 is greater than 0"
   ]
  },
  {
   "cell_type": "markdown",
   "id": "d7884bed",
   "metadata": {},
   "source": [
    "Not all seemingly non-integer strings evaluate to zero because Bash supports expressing integer values\n",
    "in a specified base (between 2 and 64). For example, the binary (base 2) number `101`, which is equal to\n",
    "`5` in base 10, can be written as `2#101`:"
   ]
  },
  {
   "cell_type": "code",
   "execution_count": null,
   "id": "80f8fcfc",
   "metadata": {},
   "outputs": [],
   "source": [
    "./scripts/conditional_statements/compint.sh 2#101 1               # 5 is greater than 1"
   ]
  },
  {
   "cell_type": "markdown",
   "id": "d83952ce",
   "metadata": {},
   "source": [
    "Because of the rules that Bash uses to parse an integer value in an integer expression, it is possible to\n",
    "produce an error:"
   ]
  },
  {
   "cell_type": "code",
   "execution_count": null,
   "id": "d1ac5909",
   "metadata": {},
   "outputs": [],
   "source": [
    "./scripts/conditional_statements/compint.sh 2abc 1               # 5 error"
   ]
  },
  {
   "cell_type": "markdown",
   "id": "33c79fd9",
   "metadata": {},
   "source": [
    "### Testing for the correct number of command line arguments\n",
    "\n",
    "As we have already seen, Bash does not indicate that an error has occurred if an unassigned parameter is used.\n",
    "A script that requires a specific number of command line arguments should manually test that the correct number\n",
    "of arguments have been provided. \n",
    "\n",
    "Using an integer expression, we can test if the correct number of command line arguments have been\n",
    "provided by the caller in our `namedsh.sh` script:\n",
    "\n",
    "---\n",
    "\n",
    "```sh\n",
    "#!/bin/bash\n",
    "\n",
    "# namedsh.sh\n",
    "\n",
    "if [[ $# -ne 1 ]]; then\n",
    "    # oops, no filename specified\n",
    "    echo \"namedsh.sh: output filename required\" >&2\n",
    "    exit 2\n",
    "fi\n",
    "\n",
    "if [[ -e $1 ]]; then\n",
    "    # oops, specified file already exists\n",
    "    echo \"namedsh.sh: $1 already exists\" >&2\n",
    "    exit 1\n",
    "fi\n",
    "\n",
    "# specified does not exist, go ahead and create it\n",
    "echo '#!/bin/bash' > ${1}\n",
    "chmod u+x ${1}\n",
    "```\n",
    "\n",
    "---"
   ]
  },
  {
   "cell_type": "code",
   "execution_count": null,
   "id": "1f9b60d8",
   "metadata": {},
   "outputs": [],
   "source": []
  }
 ],
 "metadata": {
  "kernelspec": {
   "display_name": "Calysto Bash",
   "language": "bash",
   "name": "calysto_bash"
  },
  "language_info": {
   "file_extension": ".sh",
   "help_links": [
    {
     "text": "MetaKernel Magics",
     "url": "https://metakernel.readthedocs.io/en/latest/source/README.html"
    }
   ],
   "mimetype": "text/x-sh",
   "name": "bash",
   "version": "0.2.2"
  }
 },
 "nbformat": 4,
 "nbformat_minor": 5
}
