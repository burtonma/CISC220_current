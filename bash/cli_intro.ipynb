{
 "cells": [
  {
   "cell_type": "markdown",
   "id": "d7d9224c",
   "metadata": {},
   "source": [
    "# Introduction to the command line\n",
    "\n",
    "The Bash shell presents a command line interface (CLI) to the user. To use the interface, the user\n",
    "types commands into the terminal and presses the Enter key to run the command.\n",
    "\n",
    "On the author's computer, there are currently over 4500 commands that can be run from the shell. In addition\n",
    "to the large number of possible commands, each command has various options and inputs.\n",
    "\n",
    "This notebook illustrates some simple commands. Some of the commands are useful, but most of them are silly.\n",
    "Readers using the Linux virtual machine provided for CISC220 should be able to run every command in this\n",
    "notebook. Readers using macOS will probably not be able to run all of the commands because the programs\n",
    "corresponding to the commands are not part of the standard macOS installation."
   ]
  },
  {
   "cell_type": "markdown",
   "id": "affc2444",
   "metadata": {},
   "source": [
    "The `echo` command prints a specified string."
   ]
  },
  {
   "cell_type": "code",
   "execution_count": 1,
   "id": "c89d8311",
   "metadata": {},
   "outputs": [
    {
     "name": "stdout",
     "output_type": "stream",
     "text": [
      "Hello, world!\n"
     ]
    }
   ],
   "source": [
    "echo \"Hello, world!\""
   ]
  },
  {
   "cell_type": "markdown",
   "id": "c46fc06b",
   "metadata": {},
   "source": [
    "The `ls` command lists the files in the current working directory."
   ]
  },
  {
   "cell_type": "code",
   "execution_count": null,
   "id": "db9ab1fe",
   "metadata": {},
   "outputs": [],
   "source": [
    "ls"
   ]
  },
  {
   "cell_type": "markdown",
   "id": "52689d46",
   "metadata": {},
   "source": [
    "The `cat` command concatenates files and prints the results to the terminal."
   ]
  },
  {
   "cell_type": "code",
   "execution_count": null,
   "id": "5d181961",
   "metadata": {},
   "outputs": [],
   "source": [
    "cat animals.txt"
   ]
  },
  {
   "cell_type": "code",
   "execution_count": null,
   "id": "73b97c24",
   "metadata": {},
   "outputs": [],
   "source": [
    "cat fruits.txt"
   ]
  },
  {
   "cell_type": "code",
   "execution_count": null,
   "id": "7e18f831",
   "metadata": {},
   "outputs": [],
   "source": [
    "cat animals.txt fruits.txt"
   ]
  },
  {
   "cell_type": "markdown",
   "id": "9514fde8",
   "metadata": {},
   "source": [
    "The `sort` command sorts lines of text files."
   ]
  },
  {
   "cell_type": "code",
   "execution_count": null,
   "id": "8194163c",
   "metadata": {},
   "outputs": [],
   "source": [
    "sort animals.txt"
   ]
  },
  {
   "cell_type": "markdown",
   "id": "f9f831ea",
   "metadata": {},
   "source": [
    "The output of one command can be sent to the input of another command using a *pipe*."
   ]
  },
  {
   "cell_type": "code",
   "execution_count": null,
   "id": "ec4121d9",
   "metadata": {},
   "outputs": [],
   "source": [
    "cat animals.txt fruits.txt | sort"
   ]
  },
  {
   "cell_type": "markdown",
   "id": "3f7c8f91",
   "metadata": {},
   "source": [
    "The `grep` command searches a file for a pattern specifed by a *regular expression*. For example, we can\n",
    "search for all of the animals in `animals.txt` that start with the letter `a`:"
   ]
  },
  {
   "cell_type": "code",
   "execution_count": null,
   "id": "d63b5cba",
   "metadata": {},
   "outputs": [],
   "source": [
    "grep ^a animals.txt"
   ]
  },
  {
   "cell_type": "markdown",
   "id": "c37ac7d3",
   "metadata": {},
   "source": [
    "Or we can search for all of the fruits that contain the letter `p`:"
   ]
  },
  {
   "cell_type": "code",
   "execution_count": null,
   "id": "444f60ed",
   "metadata": {},
   "outputs": [],
   "source": [
    "grep p fruits.txt"
   ]
  },
  {
   "cell_type": "markdown",
   "id": "2e3a9cef",
   "metadata": {},
   "source": [
    "The `date` command prints the current date and time."
   ]
  },
  {
   "cell_type": "code",
   "execution_count": null,
   "id": "a2597de7",
   "metadata": {},
   "outputs": [],
   "source": [
    "date"
   ]
  },
  {
   "cell_type": "markdown",
   "id": "54143ad4",
   "metadata": {},
   "source": [
    "Most commands have options to modify the behavior of the command. For example, we can ask `date` for just the date:"
   ]
  },
  {
   "cell_type": "code",
   "execution_count": null,
   "id": "0c7fc370",
   "metadata": {},
   "outputs": [],
   "source": [
    "date -Idate"
   ]
  },
  {
   "cell_type": "markdown",
   "id": "503a557e",
   "metadata": {},
   "source": [
    "The `cal` command prints a calendar."
   ]
  },
  {
   "cell_type": "code",
   "execution_count": null,
   "id": "bb57dea7",
   "metadata": {},
   "outputs": [],
   "source": [
    "cal"
   ]
  },
  {
   "cell_type": "markdown",
   "id": "a776b9ec",
   "metadata": {},
   "source": [
    "We can ask for a particular month:"
   ]
  },
  {
   "cell_type": "code",
   "execution_count": null,
   "id": "9e53d715",
   "metadata": {},
   "outputs": [],
   "source": [
    "cal -m 1"
   ]
  },
  {
   "cell_type": "markdown",
   "id": "9d5686a3",
   "metadata": {},
   "source": [
    "Or we can ask for the entire year:"
   ]
  },
  {
   "cell_type": "code",
   "execution_count": null,
   "id": "d87efdc7",
   "metadata": {},
   "outputs": [],
   "source": [
    "cal -y"
   ]
  },
  {
   "cell_type": "markdown",
   "id": "35058b9a",
   "metadata": {},
   "source": [
    "The `fortune` command prints a random adage."
   ]
  },
  {
   "cell_type": "code",
   "execution_count": null,
   "id": "054f5ee3",
   "metadata": {},
   "outputs": [],
   "source": [
    "fortune"
   ]
  },
  {
   "cell_type": "markdown",
   "id": "582fa96f",
   "metadata": {},
   "source": [
    "The `cowsay` program prints a cow that \"speaks\" a message."
   ]
  },
  {
   "cell_type": "code",
   "execution_count": null,
   "id": "15ed963c",
   "metadata": {},
   "outputs": [],
   "source": [
    "fortune | cowsay"
   ]
  },
  {
   "cell_type": "markdown",
   "id": "f7fed8e3",
   "metadata": {},
   "source": [
    "The `toilet` command prints a message using large letters. TOIlet stands for \"The Other Implementation’s letters\", coined after FIGlet’s \"Frank, Ian and Glen’s letters\". "
   ]
  },
  {
   "cell_type": "code",
   "execution_count": null,
   "id": "0eb46a23",
   "metadata": {},
   "outputs": [],
   "source": [
    "fortune | toilet"
   ]
  },
  {
   "cell_type": "code",
   "execution_count": null,
   "id": "90c74e88",
   "metadata": {},
   "outputs": [],
   "source": []
  }
 ],
 "metadata": {
  "kernelspec": {
   "display_name": "Bash",
   "language": "bash",
   "name": "bash"
  },
  "language_info": {
   "codemirror_mode": "shell",
   "file_extension": ".sh",
   "mimetype": "text/x-sh",
   "name": "bash"
  }
 },
 "nbformat": 4,
 "nbformat_minor": 5
}
