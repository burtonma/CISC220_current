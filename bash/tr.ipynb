{
 "cells": [
  {
   "cell_type": "markdown",
   "id": "2d8e10f9",
   "metadata": {},
   "source": [
    "# The `tr` command\n",
    "\n",
    "The `tr` command translates, squeezes, and/or delete characters from standard input, writing to standard output.\n",
    "The command is similar to a character-based search and replace for strings.\n",
    "\n",
    "The usage of `tr` is:\n",
    "\n",
    "```sh\n",
    "tr [option]... seq1 [seq2]\n",
    "```\n",
    "\n",
    "where `[option]` are optional flags, `seq1` is a sequence of characters to convert from, and `seq2` is an\n",
    "optional sequence of characters to convert to.\n",
    "\n",
    "`tr` performs translation when both sets `seq1` and `seq2` are given. Each character in the set `seq1`\n",
    "is translated to its corresponding character in `seq2`. Characters not in `seq1` are passed through to the output\n",
    "unchanged.\n",
    "\n",
    "`tr` takes its input from standard input so to apply the command to a string stored in a variable, you\n",
    "print the string using `printf` (or `echo` if the string contains no unusual character sequences) and\n",
    "pipe the output to `tr`. For example, to compute the string obtained by replacing all occurrences of `p` with\n",
    "`t` in a string `x` you can write:"
   ]
  },
  {
   "cell_type": "code",
   "execution_count": null,
   "id": "cd0bdac2",
   "metadata": {},
   "outputs": [],
   "source": [
    "x=\"sparring with a purple porpoise\"\n",
    "y=$(printf %s \"$x\" | tr 'p' 't')       # replace all occurrences of p with t\n",
    "echo $y"
   ]
  },
  {
   "cell_type": "markdown",
   "id": "868d7c0c",
   "metadata": {},
   "source": [
    "Similarly, to compute the string obtained by replacing all occurrences of `.` with `/` in a string `x` you can write:"
   ]
  },
  {
   "cell_type": "code",
   "execution_count": null,
   "id": "cc1e2433",
   "metadata": {},
   "outputs": [],
   "source": [
    "x=\"ca.queensu.cs.cisc124\"\n",
    "y=$(printf %s \"$x\" | tr '.' '/')       # replace all occurrences of . with /\n",
    "echo $y"
   ]
  },
  {
   "cell_type": "markdown",
   "id": "ec02334e",
   "metadata": {},
   "source": [
    "### Specifying the sequences `seq1` and `seq2`\n",
    "\n",
    "The sequences `seq1` and `seq2` can be specified in three different ways:\n",
    "\n",
    "1. a sequence (string)\n",
    "    * e.g., `ABCDEFGHIJKLMNOPQRSTUVWXYZ`\n",
    "2. a range (but this is not portable)\n",
    "    * e.g. `A-Z`\n",
    "3. POSIX character class (on POSIX systems)\n",
    "    * e.g., `[:upper:]`\n",
    "\n",
    "Usually, the sequences have the same size so that the i'th character in `seq1` is replaced with the i'th character\n",
    "in `seq2`. For example, to convert letters from lowercase to uppercase:"
   ]
  },
  {
   "cell_type": "code",
   "execution_count": null,
   "id": "f5bd5ac9",
   "metadata": {},
   "outputs": [],
   "source": [
    "x=\"cisc220\"\n",
    "# replace lowercase letters with uppercase\n",
    "seq1='a-z'\n",
    "seq2='A-Z'\n",
    "y=$(printf %s \"$x\" | tr \"$seq1\" \"$seq2\")\n",
    "echo $y"
   ]
  },
  {
   "cell_type": "markdown",
   "id": "22bc2825",
   "metadata": {},
   "source": [
    "If `seq1` is shorter than `seq2` then the excess characters in `seq2` are simply ignored:"
   ]
  },
  {
   "cell_type": "code",
   "execution_count": null,
   "id": "a6c34066",
   "metadata": {},
   "outputs": [],
   "source": [
    "x=\"cisc220\"\n",
    "# replace lowercase letters with uppercase\n",
    "seq1='a-z'\n",
    "seq2='A-Z0-9'\n",
    "y=$(printf %s \"$x\" | tr \"$from\" \"$to\")\n",
    "echo $y"
   ]
  },
  {
   "cell_type": "markdown",
   "id": "448d1fb5",
   "metadata": {},
   "source": [
    "If `seq1` is longer than `seq2` then `seq2` is extended by copying its last character until `seq2` is the same\n",
    "length as `seq1`, but this is not portable. \n",
    "The GNU version of `tr` performs copying of the last character but POSIX says that the result is undefined:"
   ]
  },
  {
   "cell_type": "code",
   "execution_count": null,
   "id": "6ccf4da6",
   "metadata": {},
   "outputs": [],
   "source": [
    "x=\"cisc220\"\n",
    "# replace all digits with X (GNU tr)\n",
    "seq1='0-9'\n",
    "seq2='X'\n",
    "y=$(printf %s \"$x\" | tr \"$seq1\" \"$seq2\")\n",
    "echo $y"
   ]
  },
  {
   "cell_type": "markdown",
   "id": "a4635b70",
   "metadata": {},
   "source": [
    "A more portable way to duplicate a character *c* in `to` is to use the syntax `[`*c*`*]` which duplicates\n",
    "the character *c* until `seq2` has the same length as `seq1`:"
   ]
  },
  {
   "cell_type": "code",
   "execution_count": null,
   "id": "f98ba835",
   "metadata": {},
   "outputs": [],
   "source": [
    "x=\"cisc220\"\n",
    "# replace all digits with X\n",
    "seq1='[:digit:]'                 # 0123456789\n",
    "seq2='[X*]'                      # XXXXXXXXXX\n",
    "y=$(printf %s \"$x\" | tr \"$seq1\" \"$seq2\")\n",
    "echo $y"
   ]
  },
  {
   "cell_type": "markdown",
   "id": "3dd23ee4",
   "metadata": {},
   "source": [
    "If `seq1` contains duplicated characters then the result is undefined. On the author's machine, the following\n",
    "prints `SISS220`:"
   ]
  },
  {
   "cell_type": "code",
   "execution_count": null,
   "id": "7e4206ef",
   "metadata": {},
   "outputs": [],
   "source": [
    "x=\"cisc220\"\n",
    "# uh oh, duplicated c in from\n",
    "seq1='cisc'                       # cisc\n",
    "seq2='CIS'                        # CISS in Bash (probably)\n",
    "y=$(printf %s \"$x\" | tr \"$seq1\" \"$seq2\")\n",
    "echo $y"
   ]
  },
  {
   "cell_type": "markdown",
   "id": "29a46336",
   "metadata": {},
   "source": [
    "### Deleting characters\n",
    "\n",
    "Use the `-d` option to delete characters that appear in the sequence `seq1`; the set `seq2` is\n",
    "not used and an error might result if it is specified:"
   ]
  },
  {
   "cell_type": "code",
   "execution_count": null,
   "id": "1ae02790",
   "metadata": {},
   "outputs": [],
   "source": [
    "x=\"2022-10-21\"\n",
    "seq1='-'\n",
    "y=$(printf %s \"$x\" | tr -d \"$seq2\")\n",
    "echo $y"
   ]
  },
  {
   "cell_type": "markdown",
   "id": "c55b025e",
   "metadata": {},
   "source": [
    "### Squeezing repeated characters\n",
    "\n",
    "Use the `-s` option to squeeze repeated characters that appear in the set `seq1`; the repeated characters are\n",
    "replaced with a single instance of the character:"
   ]
  },
  {
   "cell_type": "code",
   "execution_count": null,
   "id": "b32a41e8",
   "metadata": {},
   "outputs": [],
   "source": [
    "x=\"a     bcd  ef g\"\n",
    "seq1=' '                          # squeeze repeated spaces into a single space\n",
    "y=$(printf %s \"$x\" | tr -s \"$seq1\")\n",
    "echo $y"
   ]
  },
  {
   "cell_type": "markdown",
   "id": "274b6a9a",
   "metadata": {},
   "source": [
    "Squeezing and deletion can both be specified in which case deletion is first performed using the characters specified in `seq1` and then squeezing is performed using the characters specified in `seq2`:"
   ]
  },
  {
   "cell_type": "code",
   "execution_count": null,
   "id": "cbbeb133",
   "metadata": {},
   "outputs": [],
   "source": []
  }
 ],
 "metadata": {
  "kernelspec": {
   "display_name": "Bash",
   "language": "bash",
   "name": "bash"
  },
  "language_info": {
   "codemirror_mode": "shell",
   "file_extension": ".sh",
   "mimetype": "text/x-sh",
   "name": "bash"
  }
 },
 "nbformat": 4,
 "nbformat_minor": 5
}
