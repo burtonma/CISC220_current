{
 "cells": [
  {
   "cell_type": "markdown",
   "id": "ea168e06",
   "metadata": {},
   "source": [
    "# Introduction to Bash shell scripting\n",
    "\n",
    "A Bash shell script is a plain-text file containing a sequence of commands intended to be run by a Bash shell. When\n",
    "a script is run, the shell reads the file and interprets the commands contained in the script; the shell is both\n",
    "a command line interface that the user can interact with directly and an interpreter for scripts.\n",
    "\n",
    "The script file must be readable and executable, and the operating system needs to know where the script is located.\n",
    "If the script is not in a directory specified by the current path then the path to the script must be specified\n",
    "by the caller of the script.\n",
    "\n",
    "Being plain-text files, a script has a filename. There are no universally accepted style rules for naming scripts\n",
    "but we will use the following conventions for script filenames:\n",
    "\n",
    "* ends with the extension `.sh`\n",
    "* starts with a lowercase letter\n",
    "* contains only alphanumeric characters and the underscore\n",
    "* multiword script names use the underscore to separate words\n"
   ]
  },
  {
   "cell_type": "markdown",
   "id": "849319c1",
   "metadata": {},
   "source": [
    "## Some simple Bash scripts\n",
    "\n",
    "<div class=\"alert alert-block alert-info\">\n",
    "    You can find all of the scripts in this notebook in the subdirectory containing this notebook:\n",
    "    <code>./scripts/introduction_to_bash_scripting</code>\n",
    "</div>\n",
    "\n",
    "\n",
    "The following script (named `hello.sh`) is one possible implementation of the traditional 'Hello, world' program:"
   ]
  },
  {
   "cell_type": "code",
   "execution_count": null,
   "id": "e877b3bf",
   "metadata": {},
   "outputs": [],
   "source": [
    "#!/bin/bash\n",
    "\n",
    "echo 'Hello, world!'"
   ]
  },
  {
   "cell_type": "markdown",
   "id": "daa22c1b",
   "metadata": {},
   "source": [
    "Jupyter notebook can run the script within the Jupyter notebook environment. Running the above cell will\n",
    "produce the output `Hello, world!`.\n",
    "\n",
    "Of course, you would normally write scripts outside of the Jupyter environment. To do so, you might\n",
    "do the following:\n",
    "\n",
    "1. start a text editor program\n",
    "2. type the lines of the script into the editor\n",
    "3. save the file with the filename `hello.sh`\n",
    "4. open a terminal and changing to the directory containing the saved `hello.sh` file\n",
    "5. change the permissions of `hello.sh` so that it is readable and executable by the current user\n",
    "6. run the script by typing `./hello.sh` and pressing enter\n",
    "    * if the directory that `hello.sh` is on the current path then the script can be run by typing `hello.sh`\n",
    "    \n",
    "All of the scripts found in this notebook are located in a subdirectory named\n",
    "`./scripts/introduction_to_bash_scripting`; thus, we can run the script by running a Jupyter cell that\n",
    "calls the script directly:"
   ]
  },
  {
   "cell_type": "code",
   "execution_count": null,
   "id": "a3257b34",
   "metadata": {},
   "outputs": [],
   "source": [
    "./scripts/introduction_to_bash_scripting/hello.sh"
   ]
  },
  {
   "cell_type": "markdown",
   "id": "889eaebc",
   "metadata": {},
   "source": [
    "Alternatively, we can run a Jupyter cell that changes to the script directory and calls the script:\n",
    "\n",
    "---\n",
    "\n",
    "```sh\n",
    "cd ./scripts/introduction_to_bash_scripting\n",
    "./hello.sh\n",
    "```\n",
    "\n",
    "---\n",
    "\n",
    "We will avoid changing directories in this notebook because doing so affects the current working\n",
    "directory for all cells in this notebook."
   ]
  },
  {
   "cell_type": "markdown",
   "id": "03700dcc",
   "metadata": {},
   "source": [
    "The first line of the script should start with the characters `#!` (called a \n",
    "[*hash-bang* or *shebang*](https://en.wikipedia.org/wiki/Shebang_(Unix))). When a text file starting with a\n",
    "hash-bang is used as an executable program in a Unix-like environment, the remainder of the first line of the\n",
    "script is treated as an interpreter directive. The interpreter directive specifies the program that should\n",
    "be used to interpret the commands in the script; thus:\n",
    "\n",
    "```sh\n",
    "#!/bin/bash\n",
    "```\n",
    "\n",
    "specifies that the program `/bin/bash` should be used to interpret the script commands. On Linux systems, `/bin/bash`\n",
    "is the Bash shell program."
   ]
  },
  {
   "cell_type": "markdown",
   "id": "ad705661",
   "metadata": {},
   "source": [
    "It is possible to run a script that does not have execute permission by running a shell program an passing\n",
    "the script pathname as an argument. For example, typing the following into a terminal:\n",
    "\n",
    "```sh\n",
    "bash hello.sh\n",
    "```\n",
    "\n",
    "will run the `hello.sh` script (assuming that the current working directory contains the script)."
   ]
  },
  {
   "cell_type": "markdown",
   "id": "5c373743",
   "metadata": {},
   "source": [
    "Any command that can be entered at the command line can appear in a script. For example, the following\n",
    "script  (named `fortunecow.sh`) uses a pipe to send the output of the `fortune` program to the input of the\n",
    "`cowsay` command:"
   ]
  },
  {
   "cell_type": "code",
   "execution_count": null,
   "id": "71b5bf29",
   "metadata": {},
   "outputs": [],
   "source": [
    "#!/bin/bash\n",
    "\n",
    "fortune | cowsay -f moose"
   ]
  },
  {
   "cell_type": "markdown",
   "id": "ffa50a5c",
   "metadata": {},
   "source": [
    "An example of a script that actually does something constructive is the following script  (named `makesh.sh`)\n",
    "that creates a\n",
    "skeleton script file named `tmp.sh` in the current directory and sets the execute permission of the file for the\n",
    "current user:"
   ]
  },
  {
   "cell_type": "code",
   "execution_count": null,
   "id": "763935b9",
   "metadata": {},
   "outputs": [],
   "source": [
    "#!/bin/bash\n",
    "\n",
    "echo '#!/bin/bash' > tmp.sh\n",
    "chmod u+x tmp.sh"
   ]
  },
  {
   "cell_type": "markdown",
   "id": "68966f84",
   "metadata": {},
   "source": [
    "If you run the above cell, you will see no output which follows the [Rule of Silence](./rules_of_the_unix_philosophy.ipynb). The script creates the file `tmp.sh` in the current working directory.\n",
    "We can verify that `tmp.sh` has been created by listing the contents of the current directory in file modification\n",
    "order (most recently modified files first):"
   ]
  },
  {
   "cell_type": "code",
   "execution_count": null,
   "id": "9d774cf3",
   "metadata": {},
   "outputs": [],
   "source": [
    "ls -t"
   ]
  },
  {
   "cell_type": "markdown",
   "id": "b7700548",
   "metadata": {},
   "source": [
    "## Comments\n",
    "\n",
    "Bash supports line ending comments (similar to Python's `#` comment and Java's `//` comment) where the\n",
    "text of the comment is ignored by the shell. The comment delimiter is the `#` character:"
   ]
  },
  {
   "cell_type": "code",
   "execution_count": null,
   "id": "bcc2c144",
   "metadata": {},
   "outputs": [],
   "source": [
    "#!/bin/bash\n",
    "\n",
    "# comment.sh\n",
    "\n",
    "# This program does nothing (almost)"
   ]
  },
  {
   "cell_type": "markdown",
   "id": "ba9a1dec",
   "metadata": {},
   "source": [
    "Running the above cell seemingly does nothing but every command (not just scripts) in a UNIX enviroment sets a\n",
    "value called the *exit status* when it finishes running. The exit status of the most recently completed\n",
    "command is stored in the special parameter `?`.\n",
    "\n",
    "<div class=\"alert alert-block alert-info\">\n",
    "    <p>\n",
    "    Bash defines a <it>parameter</it> as being an entity that stores a value. A <it>variable</it>\n",
    "    is a parameter that has a name starting with a letter. Bash defines what are called\n",
    "    <it>special parameters</it> that are represented using symbols and\n",
    "    <it>positional parameters</it> that are represented using integer values.\n",
    "    </p>\n",
    "    <ul>\n",
    "        <li><a href=\"https://www.gnu.org/software/bash/manual/html_node/Special-Parameters.html\">special\n",
    "            parameters documentation</a></li>\n",
    "        <li><a href=\"https://www.gnu.org/software/bash/manual/html_node/Positional-Parameters.html\">positional\n",
    "            parameters documentation</a></li>\n",
    "    </ul>\n",
    "    <p>\n",
    "        The programmer cannot assign a value to a special or positional parameter using the assignment\n",
    "        operator `=`; such parameters have values that are normally set by the shell.\n",
    "    </p>\n",
    "</div>\n",
    "\n",
    "\n",
    "To obtain the value stored in a parameter, we use the `$` character in front of the parameter name.\n",
    "To print the value of the exit status of the `comment.sh` script we obtain the value of `?` using\n",
    "the notation `$?` and `echo` the value:"
   ]
  },
  {
   "cell_type": "code",
   "execution_count": null,
   "id": "e3f00e2b",
   "metadata": {},
   "outputs": [],
   "source": [
    "./scripts/introduction_to_bash_scripting/comment.sh\n",
    "echo $?"
   ]
  },
  {
   "cell_type": "markdown",
   "id": "cacff62a",
   "metadata": {},
   "source": [
    "A successful command should produce an exit status of `0` and an unsuccessful command should produce a non-zero\n",
    "integer value between `1` and `255`. We will learn more about setting the exit status of a script in other\n",
    "notebooks."
   ]
  },
  {
   "cell_type": "markdown",
   "id": "e219f931",
   "metadata": {},
   "source": [
    "Comments may appear after a command:\n",
    "\n",
    "```sh\n",
    "#!/bin/bash\n",
    "\n",
    "echo '#!/bin/bash' > tmp.sh    # might be useful if the user could choose the filename\n",
    "chmod u+x tmp.sh\n",
    "```"
   ]
  },
  {
   "cell_type": "markdown",
   "id": "9aaabfa2",
   "metadata": {},
   "source": [
    "A quoted or escaped `#` does not delimit a comment:"
   ]
  },
  {
   "cell_type": "code",
   "execution_count": null,
   "id": "db658da1",
   "metadata": {},
   "outputs": [],
   "source": [
    "#!/bin/bash\n",
    "\n",
    "# notcomment.sh\n",
    "\n",
    "echo '# This is not a comment'"
   ]
  },
  {
   "cell_type": "markdown",
   "id": "99eff11b",
   "metadata": {},
   "source": [
    "A comment always terminates a line; thus, it is not possible to insert a comment in the middle of a line. The intent\n",
    "of the following script is to list all of the filenames ending with `.txt`:"
   ]
  },
  {
   "cell_type": "code",
   "execution_count": null,
   "id": "0479e401",
   "metadata": {},
   "outputs": [],
   "source": [
    "#!/bin/bash\n",
    "\n",
    "# badcomment.sh\n",
    "\n",
    "ls #list_all_.txt_files .txt"
   ]
  },
  {
   "cell_type": "markdown",
   "id": "6b872099",
   "metadata": {},
   "source": [
    "Instead, the script lists all of the (non-hidden) files in the current directory because:\n",
    "\n",
    "```sh\n",
    "ls #list_all_.txt_files .txt\n",
    "```\n",
    "\n",
    "is interpreted by the shell as:\n",
    "\n",
    "```sh\n",
    "ls\n",
    "```"
   ]
  },
  {
   "cell_type": "markdown",
   "id": "122348ab",
   "metadata": {},
   "source": [
    "## Command line arguments\n",
    "\n",
    "As we have seen, most commands accept or require external information in the form of command line arguments.\n",
    "Shell scripts can also make use of command line arguments. The shell provides what are called\n",
    "*positional parameters* that contain the strings on the command line.\n",
    "\n",
    "The number of command line arguments used to run a script are stored in the special shell parameter named `#`.\n",
    "\n",
    "The individual command line arguments are stored in the special shell parameters named `0`, `1`, `2`, and so on.\n",
    "\n",
    "The following script prints the number of command line arguments used to run a script and the values of those\n",
    "arguments:\n",
    "\n",
    "---\n",
    "\n",
    "```sh\n",
    "#!/bin/bash\n",
    "\n",
    "# viewargs.sh: view command line arguments\n",
    "\n",
    "echo \"\n",
    "Number of arguments: $#\n",
    "\\$0 = $0\n",
    "\\$1 = $1\n",
    "\\$2 = $2\n",
    "\\$3 = $3\n",
    "\\$4 = $4\n",
    "\\$5 = $5\n",
    "\\$6 = $6\n",
    "\\$7 = $7\n",
    "\\$8 = $8\n",
    "\\$9 = $9\n",
    "\\${10} = ${10}\n",
    "\"\n",
    "```\n",
    "\n",
    "---\n",
    "\n",
    "Note that there is no way to pass command line arguments to a script defined in a Jupyter notebook cell\n",
    "so all scripts that allow for command line arguments will be shown inline instead of as a runnable cell.\n",
    "\n",
    "The following cell runs `viewargs.sh` with zero command line arguments:"
   ]
  },
  {
   "cell_type": "code",
   "execution_count": null,
   "id": "36002d30",
   "metadata": {},
   "outputs": [],
   "source": [
    "./scripts/introduction_to_bash_scripting/viewargs.sh"
   ]
  },
  {
   "cell_type": "markdown",
   "id": "b16650ea",
   "metadata": {},
   "source": [
    "Notice that it is *not* considered an error to attempt to obtain the value of a parameter that is not set.\n",
    "Calling `viewargs.sh` with no command line arguments implies that the positional parameters `1`, `2`, and so\n",
    "on are not set but we can still attempt to obtain their values using `$1`, `$2`, and so on, without an\n",
    "error being raised by Bash.\n",
    "\n",
    "Readers are encouraged to run the `viewargs.sh` script by modifying the above cell, or in a terminal and passing\n",
    "in various command line arguments to view the values stored in the positional parameters. Doing so should quickly lead you to conclude that:\n",
    "\n",
    "* `$#` is the number of command line arguments passed to the script\n",
    "    * e.g., `./viewargs.sh` has 0 command line arguments, `./viewargs.sh abc` has 1 command line argument, `/viewargs.sh abc 123` has 2 command line arguments, and so on\n",
    "* `$0` is the string equal to the pathname used to call the script\n",
    "* `$1` is the string equal to the first command line argument used to the call the script\n",
    "* `$2` is the string equal to the second command line argument used to the call the script, and so on\n",
    "\n",
    "It is always legal to enclose a parameter inside of braces when using `$` to obtain its value, but\n",
    "for positional parameters greater than or equal to `10` you must enclose the parameter inside\n",
    "of braces `{}`. "
   ]
  },
  {
   "cell_type": "markdown",
   "id": "38392969",
   "metadata": {},
   "source": [
    "We can easily modify our existing scripts to modify their behaviour using command line arguments. For example, we\n",
    "can modify `hello.sh` to greet the user:\n",
    "\n",
    "---\n",
    "\n",
    "```sh\n",
    "#!/bin/bash\n",
    "\n",
    "# hellou.sh\n",
    "\n",
    "echo \"Hello, ${1}!\"\n",
    "```\n",
    "\n",
    "---\n",
    "\n",
    "The following cell runs `hellou.sh` with no command line arguments:"
   ]
  },
  {
   "cell_type": "code",
   "execution_count": null,
   "id": "2a9740f0",
   "metadata": {},
   "outputs": [],
   "source": [
    "./scripts/introduction_to_bash_scripting/hellou.sh"
   ]
  },
  {
   "cell_type": "markdown",
   "id": "47fd38b2",
   "metadata": {},
   "source": [
    "Readers are encouraged to run the `hellou.sh` script by modifying the above cell, or in a terminal and passing\n",
    "in various command line arguments to view the output of the script."
   ]
  },
  {
   "cell_type": "markdown",
   "id": "2d81f433",
   "metadata": {},
   "source": [
    "Similarly, we can modify `makesh.sh` to accept the name of the file to create as a command line argument:\n",
    "\n",
    "---\n",
    "\n",
    "```sh\n",
    "#!/bin/bash\n",
    "\n",
    "# namedsh.sh\n",
    "\n",
    "echo '#!/bin/bash' > ${1}\n",
    "chmod u+x ${1}\n",
    "```\n",
    "\n",
    "---\n",
    "\n",
    "The following cell runs `namedsh.sh` with one command line argument and then lists the directory\n",
    "contents:"
   ]
  },
  {
   "cell_type": "code",
   "execution_count": null,
   "id": "961150a8",
   "metadata": {},
   "outputs": [],
   "source": [
    "./scripts/introduction_to_bash_scripting/namedsh.sh myscript.sh\n",
    "ls"
   ]
  },
  {
   "cell_type": "code",
   "execution_count": null,
   "id": "18ae4630",
   "metadata": {},
   "outputs": [],
   "source": []
  }
 ],
 "metadata": {
  "kernelspec": {
   "display_name": "Bash",
   "language": "bash",
   "name": "bash"
  },
  "language_info": {
   "codemirror_mode": "shell",
   "file_extension": ".sh",
   "mimetype": "text/x-sh",
   "name": "bash"
  }
 },
 "nbformat": 4,
 "nbformat_minor": 5
}
