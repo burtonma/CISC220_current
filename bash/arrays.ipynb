{
 "cells": [
  {
   "cell_type": "markdown",
   "id": "480101df",
   "metadata": {},
   "source": [
    "# Arrays\n",
    "\n",
    "Bash has one-dimensional arrays indexed using an integer index and one-dimensional associative arrays. Like other Bash variables, arrays are created automatically as needed. They can also be created using the `declare` command\n",
    "or using `()`.\n",
    "\n",
    "This notebook does not explicitly cover associative arrays. Readers familiar with Python dictionaries should be\n",
    "able to quickly learn how to use associative arrays."
   ]
  },
  {
   "cell_type": "markdown",
   "id": "a94736cd",
   "metadata": {},
   "source": [
    "### Indexed arrays\n",
    "\n",
    "Bash arrays are zero-based, but this only means that zero is smallest legal starting index. Unlike\n",
    "Java and Python, there is no requirement that you start filling in the array starting at index zero\n",
    "nor are there requirements that indexes should be contiguous.\n",
    "\n",
    "If `arr` is an array variable, then `arr[`*i*`]=`*val* assigns *val* to the array element at\n",
    "index *i*. If the variable does not exist, then the shell creates the variable.\n",
    "\n",
    "To reference the value of the element at index *i* of `arr`, use the syntax `${arr[`*i*`]}`."
   ]
  },
  {
   "cell_type": "code",
   "execution_count": null,
   "id": "46ffbfe2",
   "metadata": {},
   "outputs": [],
   "source": [
    "arr[0]=hello\n",
    "echo ${arr[0]}"
   ]
  },
  {
   "cell_type": "markdown",
   "id": "814ddc63",
   "metadata": {},
   "source": [
    "Beware of the easy-to-make error of forgetting the enclosing braces. `$arr` expands to the element at index `0`\n",
    "of `arr`."
   ]
  },
  {
   "cell_type": "code",
   "execution_count": null,
   "id": "0de99cc8",
   "metadata": {},
   "outputs": [],
   "source": [
    "# remove the variable arr\n",
    "unset arr\n",
    "\n",
    "arr[5]=weird\n",
    "echo \"element : $arr\"    # prints the value of arr[0]\n",
    "\n",
    "arr[0]=strange\n",
    "echo \"element : $arr\"    # prints the value of arr[0]\n",
    "\n",
    "echo \"element : ${arr[5]}\"   # ok, prints the value of arr[5]"
   ]
  },
  {
   "cell_type": "markdown",
   "id": "934421af",
   "metadata": {},
   "source": [
    "The expression `$arr[i]` results in the expansion of `arr[0]` followed by the string `[i]`:"
   ]
  },
  {
   "cell_type": "code",
   "execution_count": null,
   "id": "a41eab6c",
   "metadata": {},
   "outputs": [],
   "source": [
    "unset arr\n",
    "\n",
    "arr[0]=strange\n",
    "echo \"element : $arr[i]\""
   ]
  },
  {
   "cell_type": "markdown",
   "id": "8a437c0c",
   "metadata": {},
   "source": [
    "The built-in `declare` command with the option `-a` can be used to declare and set array variables. "
   ]
  },
  {
   "cell_type": "code",
   "execution_count": null,
   "id": "56945c51",
   "metadata": {},
   "outputs": [],
   "source": [
    "# declare an empty array x\n",
    "declare -a x\n",
    "\n",
    "# declare an array y and assign the values 10, 20, and 30 to the elements at indexes 0, 1, and 2\n",
    "declare -a y=(10 20 30)\n",
    "echo ${y[0]}\n",
    "echo ${y[1]}\n",
    "echo ${y[2]}"
   ]
  },
  {
   "cell_type": "markdown",
   "id": "343ff605",
   "metadata": {},
   "source": [
    "Yet another way to create an array variable is to use parentheses. The array elements (if any) are separated\n",
    "by spaces:"
   ]
  },
  {
   "cell_type": "code",
   "execution_count": null,
   "id": "c1fcbca2",
   "metadata": {},
   "outputs": [],
   "source": [
    "arr1=(hello)\n",
    "arr2=(0 1 2 3 4)\n",
    "arr3=([1]=goodbye)\n",
    "arr4=([100]=weird [0]=weirder [1]=weirdest)"
   ]
  },
  {
   "cell_type": "markdown",
   "id": "22e1e63a",
   "metadata": {},
   "source": [
    "## Number of elements\n",
    "\n",
    "The number of elements in an array `arr` is given by the somewhat unusual syntax `${#arr[@]}`:"
   ]
  },
  {
   "cell_type": "code",
   "execution_count": null,
   "id": "d21cacbc",
   "metadata": {},
   "outputs": [],
   "source": [
    "arr1=(hello)\n",
    "arr2=(0 1 2 3 4)\n",
    "arr3=([1]=goodbye)\n",
    "arr4=([100]=weird [0]=weirder [1]=weirdest)\n",
    "\n",
    "echo \"# elems in arr1 : ${#arr1[@]}\"\n",
    "echo \"# elems in arr2 : ${#arr2[@]}\"\n",
    "echo \"# elems in arr3 : ${#arr3[@]}\"\n",
    "echo \"# elems in arr4 : ${#arr4[@]}\""
   ]
  },
  {
   "cell_type": "markdown",
   "id": "f1ec89ba",
   "metadata": {},
   "source": [
    "## The subscripts `@` and `*`\n",
    "\n",
    "If `arr` is an array then `${arr[@]}` and `${arr[*]}` result in an expansion to all elements of the array.\n",
    "Both result in the string \n",
    "\n",
    "`${arr[0]} ${arr[1]} ${arr[2]} ...`\n",
    "\n",
    "Notice that the string and all of its elements are unquoted. Either expansion is fine if you know for\n",
    "certain that none of the array elements contain whitespace and you want word splitting to occur on\n",
    "the resulting string.\n",
    "\n",
    "`\"${arr[@]}\"` produces a list of all elements of the array where each element is expanded to a separate word.\n",
    "It results in the string \n",
    "\n",
    "`\"${arr[0]}\" \"${arr[1]}\" \"${arr[2]}\" ...`\n",
    "\n",
    "Notice that each element is expanded as though it were a single word. This is almost always the expansion\n",
    "that you want to use.\n",
    "\n",
    "`\"${arr[*]}\"` produces a single string containing all the elements of the array separated by a space.\n",
    "The effect is to produce the string\n",
    "\n",
    "`${arr[0]} ${arr[1]} ${arr[2]} ...`\n",
    "\n",
    "and then surround the entire string in quotes.\n",
    "\n",
    "The following four examples illustrate the differences between the expansions:"
   ]
  },
  {
   "cell_type": "code",
   "execution_count": null,
   "id": "08d4fc19",
   "metadata": {},
   "outputs": [],
   "source": [
    "animals=(\"a dog\" \"a cat\" \"a fish\")\n",
    "for i in ${animals[*]}; do echo $i; done"
   ]
  },
  {
   "cell_type": "code",
   "execution_count": null,
   "id": "2fc4dad8",
   "metadata": {},
   "outputs": [],
   "source": [
    "animals=(\"a dog\" \"a cat\" \"a fish\")\n",
    "for i in ${animals[@]}; do echo $i; done"
   ]
  },
  {
   "cell_type": "code",
   "execution_count": null,
   "id": "6caade60",
   "metadata": {},
   "outputs": [],
   "source": [
    "animals=(\"a dog\" \"a cat\" \"a fish\")\n",
    "for i in \"${animals[@]}\"; do echo $i; done"
   ]
  },
  {
   "cell_type": "code",
   "execution_count": null,
   "id": "1b82a10f",
   "metadata": {},
   "outputs": [],
   "source": [
    "animals=(\"a dog\" \"a cat\" \"a fish\")\n",
    "for i in \"${animals[*]}\"; do echo $i; done"
   ]
  },
  {
   "cell_type": "markdown",
   "id": "5b5af9ca",
   "metadata": {},
   "source": [
    "## Obtaining the indexes used by an array\n",
    "\n",
    "If `arr` is an array, then the list of indexes used by the array is `${!arr[@]}`."
   ]
  },
  {
   "cell_type": "code",
   "execution_count": null,
   "id": "eed99b88",
   "metadata": {},
   "outputs": [],
   "source": [
    "arr1=(hello)\n",
    "arr2=(Jan Feb Mar Apr)\n",
    "arr3=([1]=goodbye)\n",
    "arr4=([100]=weird [0]=weirder [1]=weirdest)\n",
    "\n",
    "echo ${!arr1[@]}\n",
    "echo ${!arr2[@]}\n",
    "echo ${!arr3[@]}\n",
    "echo ${!arr4[@]}"
   ]
  },
  {
   "cell_type": "markdown",
   "id": "f0ad3db3",
   "metadata": {},
   "source": [
    "The indexes are useful if for some reason you need to loop over the indexes of an array:"
   ]
  },
  {
   "cell_type": "code",
   "execution_count": null,
   "id": "965f3045",
   "metadata": {},
   "outputs": [],
   "source": [
    "months=(Jan Feb Mar Apr May)\n",
    "for i in \"${!months[@]}\"; do\n",
    "    elem=${months[i]}\n",
    "    echo \"months[$i] = $elem\"\n",
    "done"
   ]
  },
  {
   "cell_type": "markdown",
   "id": "56feaed3",
   "metadata": {},
   "source": [
    "## Concatenating arrays\n",
    "\n",
    "The `arr1+=(\"${arr2[@]}\")` concatenates the elements of `arr2` to the end of `arr1`:"
   ]
  },
  {
   "cell_type": "code",
   "execution_count": null,
   "id": "fbd183e3",
   "metadata": {},
   "outputs": [],
   "source": [
    "unset a b\n",
    "a[100]=0\n",
    "b=(5 6 7)\n",
    "a+=(\"${b[@]}\")\n",
    "echo \"${a[@]}\"\n",
    "echo \"${!a[@]}\""
   ]
  },
  {
   "cell_type": "markdown",
   "id": "04d9379e",
   "metadata": {},
   "source": [
    "A single element `elem` can be appended to the end of an array `arr` by writing `arr+=(\"$elem\")`:"
   ]
  },
  {
   "cell_type": "code",
   "execution_count": null,
   "id": "d31359d0",
   "metadata": {},
   "outputs": [],
   "source": [
    "months=(Jan Feb Mar Apr)\n",
    "echo \"${months[@]}\"\n",
    "\n",
    "months+=(\"May\")\n",
    "echo \"${months[@]}\""
   ]
  },
  {
   "cell_type": "markdown",
   "id": "d1d67831",
   "metadata": {},
   "source": [
    "## Interactively reading elements into an array\n",
    "\n",
    "The `read` built-in command can be used to interactively read elements into an array if the elements do\n",
    "not contain spaces (`read` does not treat quotes as preventing word splitting so quoting the elements\n",
    "on the command line does not work).\n",
    "\n",
    "`read -a` *arr*\n",
    "\n",
    "will read a single line from the standard input, split the line using word splitting, and then\n",
    "sequentially assign the words to the array *arr* (creating *arr*).\n",
    "\n",
    "`read -p` *prompt* `-a` *arr*\n",
    "\n",
    "will print a prompt (without a newline) and then read a line into the array *arr*.\n",
    "\n",
    "The Jupyter Bash kernel does not support interactive input. The following example should be run in\n",
    "an actual terminal emulator:\n",
    "\n",
    "```sh\n",
    "read -p \"Enter a list of elements: \" -a arr\n",
    "echo \"${arr[@]}\"\n",
    "```"
   ]
  },
  {
   "cell_type": "markdown",
   "id": "de79505e",
   "metadata": {},
   "source": [
    "## Reading lines of a file into an array\n",
    "\n",
    "The `mapfile` (also called `readarray`) built-in command will read one or more lines from standard input\n",
    "storing each line as a separate array element. The command:\n",
    "\n",
    "`mapfile -t arr`\n",
    "\n",
    "reads lines from standard input and stores each line in the array `arr`. The `-t` option removes the newline\n",
    "character from the end of each line before storing the line in the array.\n",
    "\n",
    "\n",
    "Consider the following file (found in \n",
    "`./scripts/arrays/students.txt`) that contains a list of student\n",
    "information one student per line:\n",
    "\n",
    "```\n",
    "# student number, last name, first name\n",
    "12345,Parr,Jack-Jack\n",
    "23456,Wazowski,Mike\n",
    "98765,Best,Lucius\n",
    "```\n",
    "\n",
    "The following cell uses `mapfile` to read each line of the file into an array:"
   ]
  },
  {
   "cell_type": "code",
   "execution_count": null,
   "id": "e87b9870",
   "metadata": {},
   "outputs": [],
   "source": [
    "file=\"./scripts/arrays/students.txt\"\n",
    "\n",
    "mapfile -t students < \"$file\"\n",
    "\n",
    "for elem in \"${students[@]}\"; do\n",
    "    echo \"$elem\"\n",
    "done\n"
   ]
  },
  {
   "cell_type": "code",
   "execution_count": null,
   "id": "9ee183e2",
   "metadata": {},
   "outputs": [],
   "source": []
  }
 ],
 "metadata": {
  "kernelspec": {
   "display_name": "Calysto Bash",
   "language": "bash",
   "name": "calysto_bash"
  },
  "language_info": {
   "file_extension": ".sh",
   "help_links": [
    {
     "text": "MetaKernel Magics",
     "url": "https://metakernel.readthedocs.io/en/latest/source/README.html"
    }
   ],
   "mimetype": "text/x-sh",
   "name": "bash",
   "version": "0.2.2"
  }
 },
 "nbformat": 4,
 "nbformat_minor": 5
}
