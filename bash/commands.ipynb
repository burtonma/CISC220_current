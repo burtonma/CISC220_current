{
 "cells": [
  {
   "cell_type": "markdown",
   "id": "b959aaac",
   "metadata": {},
   "source": [
    "# Commands\n",
    "\n",
    "Commands can be one of four things:\n",
    "\n",
    "1. a shell built-in command (e.g., `cd`, `pwd`)\n",
    "2. an executable program (e.g., `ls`, `cal`)\n",
    "    * a compiled program (e.g., C)\n",
    "    * a script (e.g., shell scripting language, Perl, Python)\n",
    "3. aliases\n",
    "    * a keyboard shortcut, an abbreviation, a means of avoiding typing a long command sequence\n",
    "    * user-defined commands built from other commands\n",
    "4. shell functions\n",
    "    * function written in the shell scripting language\n",
    "    \n",
    "#### `type`\n",
    "\n",
    "The `type` command displays information about the command type."
   ]
  },
  {
   "cell_type": "code",
   "execution_count": null,
   "id": "508c8fd3",
   "metadata": {},
   "outputs": [],
   "source": [
    "type cd"
   ]
  },
  {
   "cell_type": "code",
   "execution_count": null,
   "id": "ce5457c3",
   "metadata": {},
   "outputs": [],
   "source": [
    "type ls"
   ]
  },
  {
   "cell_type": "code",
   "execution_count": null,
   "id": "e6b001db",
   "metadata": {},
   "outputs": [],
   "source": [
    "type cal"
   ]
  },
  {
   "cell_type": "markdown",
   "id": "004b8f31",
   "metadata": {},
   "source": [
    "#### `which`\n",
    "\n",
    "The `which` command displays the pathname of an executable command."
   ]
  },
  {
   "cell_type": "code",
   "execution_count": null,
   "id": "fe05b517",
   "metadata": {},
   "outputs": [],
   "source": [
    "which cd"
   ]
  },
  {
   "cell_type": "code",
   "execution_count": null,
   "id": "624598c9",
   "metadata": {},
   "outputs": [],
   "source": [
    "which ls"
   ]
  },
  {
   "cell_type": "code",
   "execution_count": null,
   "id": "e6470947",
   "metadata": {},
   "outputs": [],
   "source": [
    "which cal"
   ]
  },
  {
   "cell_type": "markdown",
   "id": "728679d8",
   "metadata": {},
   "source": [
    "## Command structure\n",
    "\n",
    "Most standard commands have the following structure:\n",
    "\n",
    "**command** *-options* *arguments*\n",
    "\n",
    "where\n",
    "\n",
    "* **command** is the filename of the program corresponding to the command\n",
    "* *-options* are optional flags that modify the behavior of the command\n",
    "* *arguments* are the possibly optional space-separated list of items on which the command acts\n",
    "\n",
    "We have used the `ls` command to list the files in a directory, but more generally, it lists information\n",
    "about files. For example, we can list information about the `ls` command itself:"
   ]
  },
  {
   "cell_type": "code",
   "execution_count": null,
   "id": "46c6da51",
   "metadata": {},
   "outputs": [],
   "source": [
    "cd /usr/bin\n",
    "ls ls           # command = ls, arguments = ls"
   ]
  },
  {
   "cell_type": "markdown",
   "id": "ef99db84",
   "metadata": {},
   "source": [
    "With no options, `ls` simply prints the name of the file. To find the size on disk of the `ls` program we can use\n",
    "the `-s` option:"
   ]
  },
  {
   "cell_type": "code",
   "execution_count": null,
   "id": "fe035545",
   "metadata": {},
   "outputs": [],
   "source": [
    "ls -s ls"
   ]
  },
  {
   "cell_type": "markdown",
   "id": "ada3ebb3",
   "metadata": {},
   "source": [
    "By default, the size is given in units called blocks. To get the size in KB, MB, GB, etc. use the `-h` option with\n",
    "the `-s` option to get human readable output:"
   ]
  },
  {
   "cell_type": "code",
   "execution_count": null,
   "id": "6f630a51",
   "metadata": {},
   "outputs": [],
   "source": [
    "ls -s -h ls"
   ]
  },
  {
   "cell_type": "markdown",
   "id": "d206e7bc",
   "metadata": {},
   "source": [
    "Most, but not all, common commands allow options to be combined. An identical effect as the example above\n",
    "can be achieved using `-sh` as the option:"
   ]
  },
  {
   "cell_type": "code",
   "execution_count": null,
   "id": "8046b1c4",
   "metadata": {},
   "outputs": [],
   "source": [
    "ls -sh ls"
   ]
  },
  {
   "cell_type": "markdown",
   "id": "0e76209a",
   "metadata": {},
   "source": [
    "Long-form options exist for some options. The long-form gives better readability but are longer to type in.\n",
    "The long-form uses two hypens before each option with a space between options:"
   ]
  },
  {
   "cell_type": "code",
   "execution_count": null,
   "id": "ff6ad7cb",
   "metadata": {},
   "outputs": [],
   "source": [
    "cd\n",
    "ls --almost-all --human-readable --size -1"
   ]
  },
  {
   "cell_type": "markdown",
   "id": "9b40cdf2",
   "metadata": {},
   "source": [
    "The `ls` commands has many options that you can learn about by reading the man page. Some commonly used\n",
    "options are shown in the following table:\n",
    "\n",
    "| Option | Long option | Description |\n",
    "| :--- | :--- | :--- |\n",
    "| -a | --all | list all files including hidden files |\n",
    "| -A | --almost-all | like -a but does not list . or .. |\n",
    "| -d | --directory | list the directory name instead of its contents |\n",
    "| -F | --classify | appends an additional character to indicate file type |\n",
    "| -h | --human-readable | with -l and -s specify size in human readable format |\n",
    "| -l |  | long format |\n",
    "| -r | --reverse | reverse order |\n",
    "| -s |  | print file size in blocks |\n",
    "| -t |  | sort by modification time |\n",
    "| -1 |  | one file per line |"
   ]
  },
  {
   "cell_type": "markdown",
   "id": "3421b349",
   "metadata": {},
   "source": [
    "## Documentation\n",
    "\n",
    "Many commands will accept the `--help` option to display some documentation:"
   ]
  },
  {
   "cell_type": "code",
   "execution_count": null,
   "id": "b1492c18",
   "metadata": {},
   "outputs": [],
   "source": [
    "ls --help"
   ]
  },
  {
   "cell_type": "markdown",
   "id": "f2ece43b",
   "metadata": {},
   "source": [
    "For shell built-ins, use the `help` command:"
   ]
  },
  {
   "cell_type": "code",
   "execution_count": null,
   "id": "927b4e16",
   "metadata": {},
   "outputs": [],
   "source": [
    "help cd"
   ]
  },
  {
   "cell_type": "markdown",
   "id": "c9a464c0",
   "metadata": {},
   "source": [
    "#### man pages\n",
    "\n",
    "Executable commands intended for command-line usage often have formal documentation in the form of a \n",
    "manual or man page. Such documentation is intended as a reference and not a tutorial; often, an Internet\n",
    "search will be more useful for unfamiliar commands."
   ]
  },
  {
   "cell_type": "code",
   "execution_count": null,
   "id": "b61cf59f",
   "metadata": {},
   "outputs": [],
   "source": [
    "man ls"
   ]
  },
  {
   "cell_type": "markdown",
   "id": "b7be19e9",
   "metadata": {},
   "source": [
    "The SYNOPSIS section of a man page summarizes the overall usage of a command. Anything in square brackets\n",
    "is optional, and `...` means that multiple items are allowed. For the `ls` command we can see that\n",
    "multiple options are allowed and multiple filenames are allowed.\n",
    "\n",
    "In Jupyter, the entire man page will appear in the cell output. In a regular terminal, the output from\n",
    "the `man` command is displayed using the `less` program. `less` is a program for viewing text files\n",
    "one page at a time. The simplest way to use `less` is the use the keys `f` and `b` to move forward and\n",
    "backward one page at a time. When reading a max page with `less`, you can press the `h` key for help.\n",
    "\n",
    "If the `cowsay` program is installed on your system then you can read its man page to find out how\n",
    "to change the creature that is printed:"
   ]
  },
  {
   "cell_type": "code",
   "execution_count": null,
   "id": "1830e8cd",
   "metadata": {},
   "outputs": [],
   "source": [
    "man cowsay"
   ]
  },
  {
   "cell_type": "markdown",
   "id": "c3deffd4",
   "metadata": {},
   "source": [
    "**man page sections**\n",
    "\n",
    "Commands (and other things covered by man pages) are not required to have unique names; thus, you may\n",
    "get a man page for a different command or topic than the one that you are looking for. The standard\n",
    "man pages are divided into sections where each section contains unique topic names:\n",
    "\n",
    "| Section | Description |\n",
    "| :--- | :--- |\n",
    "| 1 | General commands |\n",
    "| 2 | System calls |\n",
    "| 3 | Library functions (C standard library) |\n",
    "| 4 | Special files (usually devices and drivers) |\n",
    "| 5 | File formats and conventions |\n",
    "| 6 | Games and screensavers | \n",
    "| 7 | Miscellaneous |\n",
    "| 8 | System administration commands |\n",
    "\n",
    "You can specify the section to search before the name of the command or topic:"
   ]
  },
  {
   "cell_type": "code",
   "execution_count": null,
   "id": "36e34bee",
   "metadata": {},
   "outputs": [],
   "source": [
    "man man"
   ]
  },
  {
   "cell_type": "code",
   "execution_count": null,
   "id": "68c2dca7",
   "metadata": {},
   "outputs": [],
   "source": [
    "man 7 man"
   ]
  },
  {
   "cell_type": "markdown",
   "id": "9f59d3bd",
   "metadata": {},
   "source": [
    "## Command history\n",
    "\n",
    "Your Bash shell is probably configured to maintain a record of the list of commands previously typed. In an\n",
    "actual terminal emulator (not a Jupyter notebook), the `Up` and `Down` arrow keys will cycle through the\n",
    "command history."
   ]
  },
  {
   "cell_type": "markdown",
   "id": "916435d1",
   "metadata": {},
   "source": [
    "The\n",
    "built-in command `history` can be used to manipulate the history list. With no options or arguments, `history`\n",
    "lists the record of commands:"
   ]
  },
  {
   "cell_type": "code",
   "execution_count": null,
   "id": "2e983b9f",
   "metadata": {},
   "outputs": [],
   "source": [
    "history"
   ]
  },
  {
   "cell_type": "markdown",
   "id": "ac7e6106",
   "metadata": {},
   "source": [
    "The number before the command is actually the line number in the history file. `history n` where `n` is a\n",
    "line number will repeat the command online `n`. This is difficult to demonstrate in a Jupyter cell; readers\n",
    "are encouraged to experiment with the `history` command on their own system."
   ]
  },
  {
   "cell_type": "markdown",
   "id": "3eed4fcf",
   "metadata": {},
   "source": [
    "## Tab completion\n",
    "\n",
    "Bash provides a feature called *programmable completion* that can auto-complete a partially typed command or filename. If you start typing a command then press the `Tab` key, Bash will attempt to automatically complete\n",
    "the rest of the command name. For example, in a terminal type (without pressing `Enter`):\n",
    "\n",
    "```sh\n",
    "cl\n",
    "```\n",
    "\n",
    "followed by the `Tab` key. Bash should autocomplete the command to:\n",
    "\n",
    "```sh\n",
    "clear\n",
    "```\n",
    "\n",
    "If there is more than one command that starts with `cl` then nothing happens. In this case, you can press the\n",
    "`Tab` key again and Bash will list all of the commands that start with `cl`. For example, on the author's\n",
    "computer typing `c` followed by two `Tab` key presses results in the following message:\n",
    "\n",
    "```\n",
    "Display all 119 possibilities? (y or n)\n",
    "```\n",
    "\n",
    "indicating that there are 119 commands that start with `c`.\n",
    "\n",
    "Tab completion has some context awareness and will attempt to auto-complete filenames where doing so makes sense.\n",
    "For example, in a terminal type (without pressing `Enter`):\n",
    "\n",
    "```sh\n",
    "cd /u\n",
    "```\n",
    "\n",
    "followed by the `Tab` key. Bash should autocomplete the command to:\n",
    "\n",
    "```sh\n",
    "cd /usr/\n",
    "```"
   ]
  },
  {
   "cell_type": "markdown",
   "id": "d13b29b9",
   "metadata": {},
   "source": [
    "## Lists of commands\n",
    "\n",
    "A list of commands is a sequence of one or more commands separated by one of the following operators:\n",
    "\n",
    "* <code>&#59;</code>\n",
    "* <code>&#38;</code>\n",
    "* <code>&#38;&#38;</code>\n",
    "* <code>&#124;&#124;</code>\n",
    "\n",
    "The semi-colon <code>&#59;</code> separates commands or terminates a list.\n",
    "\"Commands separated by a <code>&#59;</code> are executed sequentially; \n",
    "the shell waits for each command to terminate in turn. \n",
    "The return status is the exit status of the last command executed. \n",
    "\n",
    "<code>&#38;&#38;</code> and\n",
    "<code>&#124;&#124;</code> have equal precedence, followed by <code>&#59;</code> and<code>&#38;</code> which\n",
    "have equal precedence."
   ]
  },
  {
   "cell_type": "code",
   "execution_count": null,
   "id": "0cb501b5",
   "metadata": {},
   "outputs": [],
   "source": [
    "cd ~; pwd; ls"
   ]
  },
  {
   "cell_type": "markdown",
   "id": "ae2022ea",
   "metadata": {},
   "source": [
    "A single ampersand <code>&#38;</code> after a commands runs the command asynchronously in a subshell\n",
    "(often referred to as running the command in the background). The shell\n",
    "does not wait for the command to finish and control returns back to the user if the shell is being used\n",
    "interactively. Running a command in the background is often done when running a long-lived command from\n",
    "the command line. For example, if `eclipse` is installed on your system then you might be able to run it\n",
    "from the command line like so:\n",
    "\n",
    "```sh\n",
    "eclipse & \n",
    "```"
   ]
  },
  {
   "cell_type": "markdown",
   "id": "b6260064",
   "metadata": {},
   "source": [
    "#### <code>&#38;&#38;</code>\n",
    "\n",
    "<code>cmd1 &#38;&#38; cmd2</code> runs `cmd2` if and only if `cmd1` succeeds (returns an exit status of 0).\n",
    "For example:"
   ]
  },
  {
   "cell_type": "code",
   "execution_count": null,
   "id": "ade3190d",
   "metadata": {},
   "outputs": [],
   "source": [
    "cd ~ && ls"
   ]
  },
  {
   "cell_type": "markdown",
   "id": "3ef94d58",
   "metadata": {},
   "source": [
    "should always list the contents of the user's home directory, whereas"
   ]
  },
  {
   "cell_type": "code",
   "execution_count": null,
   "id": "e5f05c83",
   "metadata": {},
   "outputs": [],
   "source": [
    "cd dir_name && ls"
   ]
  },
  {
   "cell_type": "markdown",
   "id": "b7e2732b",
   "metadata": {},
   "source": [
    "will not attempt to run the `ls` command if `dir_name` is not the name of an existing directory."
   ]
  },
  {
   "cell_type": "markdown",
   "id": "984314a8",
   "metadata": {},
   "source": [
    "#### <code>&#124;&#124;</code>\n",
    "\n",
    "<code>cmd1 &#124;&#124; cmd2</code> runs `cmd2` if and only if `cmd1` encounters some kind of\n",
    "error (returns a non-zero exit status). For example:"
   ]
  },
  {
   "cell_type": "code",
   "execution_count": null,
   "id": "3ec9830c",
   "metadata": {},
   "outputs": [],
   "source": [
    "cd dir_name || mkdir dir_name; cd dir_name; pwd"
   ]
  },
  {
   "cell_type": "markdown",
   "id": "c824d865",
   "metadata": {},
   "source": [
    "tries to change the working directory to `dir_name`; if `dir_name` does not exist then `mkdir` is used\n",
    "to create the directory and then the current directory is changed to the newly created directory."
   ]
  },
  {
   "cell_type": "code",
   "execution_count": null,
   "id": "1a637e7e",
   "metadata": {},
   "outputs": [],
   "source": []
  }
 ],
 "metadata": {
  "kernelspec": {
   "display_name": "Bash",
   "language": "bash",
   "name": "bash"
  },
  "language_info": {
   "codemirror_mode": "shell",
   "file_extension": ".sh",
   "mimetype": "text/x-sh",
   "name": "bash"
  }
 },
 "nbformat": 4,
 "nbformat_minor": 5
}
