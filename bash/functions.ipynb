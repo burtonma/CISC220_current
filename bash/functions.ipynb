{
 "cells": [
  {
   "cell_type": "markdown",
   "id": "e86ac45d",
   "metadata": {},
   "source": [
    "# Functions\n",
    "\n",
    "<div class=\"alert alert-block alert-info\">\n",
    "    You can find all of the scripts in this notebook in the subdirectory containing this notebook:\n",
    "    <code>./scripts/functions</code>\n",
    "</div>\n",
    "\n",
    "Bash allows the programmer to write functions where code is grouped into a single procedure that can be\n",
    "called by name. The ways in which arguments are passed to the function, values returned by the function,\n",
    "and how variables are scoped are unusual compared to languages such as Python and Java."
   ]
  },
  {
   "cell_type": "markdown",
   "id": "f61817bf",
   "metadata": {},
   "source": [
    "### Declaring a function\n",
    "\n",
    "A Bash function named *fname* can be written as:\n",
    "\n",
    "```sh\n",
    "function fname {\n",
    "    commands\n",
    "}\n",
    "```\n",
    "\n",
    "or \n",
    "\n",
    "```sh\n",
    "fname() {\n",
    "    commands\n",
    "}\n",
    "```\n",
    "\n",
    "The first version is legal but generally discouraged because it is not portable across different shells. The\n",
    "course notebooks use only the second version shown above.\n",
    "\n",
    "The space or newline after the opening brace `{` and the newline before the closing brace `}` are important.\n",
    "If either is missing then a syntax error occurs because the shell cannot determine if the brace is a delimiter\n",
    "of the function body or if it is part of an identifier. For example, running the following cell results\n",
    "in a syntax error (see https://www.shellcheck.net/wiki/SC1054):"
   ]
  },
  {
   "cell_type": "code",
   "execution_count": null,
   "id": "d6147a18",
   "metadata": {},
   "outputs": [],
   "source": [
    "fname() {echo \"inside function\"\n",
    "}"
   ]
  },
  {
   "cell_type": "markdown",
   "id": "d0fe99a1",
   "metadata": {},
   "source": [
    "Similarly, a missing newline before the closing brace `}` also causes an error. The following script fails with\n",
    "a syntax error because the shell does not recognize the closing brace (see https://www.shellcheck.net/wiki/SC1056):\n",
    "\n",
    "```sh\n",
    "#!/bin/bash\n",
    "\n",
    "# missing_newline.sh\n",
    "\n",
    "fname() { \n",
    "    echo \"inside function\" }\n",
    "```"
   ]
  },
  {
   "cell_type": "code",
   "execution_count": null,
   "id": "92afe510",
   "metadata": {},
   "outputs": [],
   "source": [
    "./scripts/functions/missing_newline.sh"
   ]
  },
  {
   "cell_type": "markdown",
   "id": "9f9f33ac",
   "metadata": {},
   "source": [
    "The following script illustrates a simple function having no arguments and (seemingly) returning no value:\n",
    "\n",
    "---\n",
    "```sh\n",
    "#!/bin/bash\n",
    "\n",
    "# hello.sh\n",
    "\n",
    "# the function definition\n",
    "greet() {\n",
    "    echo \"Hello\"\n",
    "}\n",
    "\n",
    "# calling the function\n",
    "greet\n",
    "\n",
    "```\n",
    "---\n",
    "\n"
   ]
  },
  {
   "cell_type": "code",
   "execution_count": null,
   "id": "2ed6f2de",
   "metadata": {},
   "outputs": [],
   "source": [
    "./scripts/functions/hello.sh"
   ]
  },
  {
   "cell_type": "markdown",
   "id": "fb92d8e5",
   "metadata": {},
   "source": [
    "Calling a function looks exactly like invoking a command. Just like commands, it is possible to pass arguments\n",
    "to a function. Unlike languages such as Python, the parameters of a Bash function do not have programmer\n",
    "defined names. Instead, the positional parameters are tempoprarily replaced with the function arguments\n",
    "while the function is running.\n",
    "\n",
    "The following script illustrates a function having three parameters. The script calls the function with\n",
    "0, 1, 2, 3, and 4 arguments and then prints the command line arguments passed to the script:\n",
    "\n",
    "---\n",
    "```sh\n",
    "#!/bin/bash\n",
    "\n",
    "# func_params.sh\n",
    "\n",
    "test() {\n",
    "    param1=$1\n",
    "    param2=$2\n",
    "    param3=$3\n",
    "    echo \"$# arguments passed to function\"\n",
    "    echo \"param1 = ${param1}\"\n",
    "    echo \"param2 = ${param2}\"\n",
    "    echo \"param3 = ${param3}\"\n",
    "}\n",
    "\n",
    "# call function with varying number of arguments\n",
    "test\n",
    "echo \"---\"\n",
    "test a\n",
    "echo \"---\"\n",
    "test a b\n",
    "echo \"---\"\n",
    "test a b c\n",
    "echo \"---\"\n",
    "test a b c d\n",
    "echo \"---\"\n",
    "\n",
    "# check if arguments passed to the script are still intact\n",
    "n=$#\n",
    "echo \"${n} arguments passed to script\"\n",
    "for (( i = 1; i <= n ; i++ )); do\n",
    "    echo \"\\$${i} = $1\"\n",
    "    shift\n",
    "done\n",
    "echo \"---\"\n",
    "```\n",
    "---"
   ]
  },
  {
   "cell_type": "code",
   "execution_count": null,
   "id": "74025925",
   "metadata": {},
   "outputs": [],
   "source": [
    "./scripts/functions/func_params.sh arg1 arg2 arg3 arg4 arg5"
   ]
  },
  {
   "cell_type": "markdown",
   "id": "05615cc3",
   "metadata": {},
   "source": [
    "Notice that the function behaves much like a script. Calling the function with the wrong number of\n",
    "arguments is not automatically an error, just like running a script with the wrong number of\n",
    "arguments is not automatically an error.\n",
    "\n",
    "Also notice that outside of a function, the values of `@` and the positional parameters retain their values."
   ]
  },
  {
   "cell_type": "markdown",
   "id": "c9860e77",
   "metadata": {},
   "source": [
    "### Returning a value from a function\n",
    "\n",
    "The similarity between functions and commands extends to the return value of a function. Just like a script\n",
    "sets its exit status value at completion, a function sets its exit status on completion. The exit status\n",
    "of a function is equal to the exit status of the last command executed by the function. The `return` builtin\n",
    "command will cause a function to stop executing and set the exit status to the specified value.\n",
    "\n",
    "<div class=\"alert alert-block alert-info\">\n",
    "    <code>return</code> <it>n</it> always sets the exit status to the integer value formed\n",
    "    from the least significant 8 bits of <it>n</it>. This means that the exit status is always\n",
    "    a value between 0 and 255.\n",
    "</div>\n",
    "\n",
    "The following cell contains a function that randomly sets its exit status to `0` or `1`:"
   ]
  },
  {
   "cell_type": "code",
   "execution_count": null,
   "id": "e742d4ea",
   "metadata": {},
   "outputs": [],
   "source": [
    "somefunc() {\n",
    "    if (( RANDOM % 2 == 0 )); then\n",
    "        return 0\n",
    "    else\n",
    "        return 1\n",
    "    fi\n",
    "}\n",
    "somefunc\n",
    "echo $?"
   ]
  },
  {
   "cell_type": "markdown",
   "id": "bf493644",
   "metadata": {},
   "source": [
    "If you want to simulate returning a value other than the exit status then have the function print the return\n",
    "value to standard output and use command substitution to capture the output. The following script\n",
    "prints the maximum value in a list of integers supplied on the command line:\n",
    "\n",
    "---\n",
    "```sh\n",
    "#!/bin/bash\n",
    "\n",
    "# max.sh\n",
    "\n",
    "# prints the maximum of two integer arguments\n",
    "# prints the first integer if both values are equal\n",
    "max2() {\n",
    "    if (( $1 >= $2 )); then\n",
    "        echo $1\n",
    "    else\n",
    "        echo $2\n",
    "    fi\n",
    "}\n",
    "\n",
    "# exits with 0 if argument is an integer, 1 otherwise\n",
    "is_int() {\n",
    "    if [[ $1 =~ ^[-+]?[0-9]+$ ]]; then \n",
    "        return 0\n",
    "    else\n",
    "        return 1\n",
    "    fi\n",
    "}\n",
    "\n",
    "\n",
    "if (( $# == 0 )); then \n",
    "    exit 1\n",
    "fi\n",
    "if is_int \"$1\"; then \n",
    "    hi=$1\n",
    "else \n",
    "    exit 2\n",
    "fi\n",
    "while (( $# > 0 )); do\n",
    "    if is_int \"$1\"; then \n",
    "        hi=$(max2 $hi $1)\n",
    "    else\n",
    "        exit 2\n",
    "    fi\n",
    "    shift\n",
    "done\n",
    "echo $hi\n",
    "```\n",
    "---"
   ]
  },
  {
   "cell_type": "code",
   "execution_count": null,
   "id": "e987aff3",
   "metadata": {},
   "outputs": [],
   "source": [
    "./scripts/functions/max.sh 1 5 7 4 "
   ]
  },
  {
   "cell_type": "markdown",
   "id": "74511466",
   "metadata": {},
   "source": [
    "The function `max2()` prints the greater of two integer arguments to standard output. The script uses `max2()`\n",
    "by comparing each integer supplied as command line arguments to the current greatest value `hi`."
   ]
  },
  {
   "cell_type": "markdown",
   "id": "cbf5bc4e",
   "metadata": {},
   "source": [
    "<div class=\"alert alert-block alert-info\">\n",
    "    The disadvantage with using command substitution to capture the return value is that command substitution\n",
    "    runs the command in a separate subshell which can be inefficient in terms of runtime for simple commands.\n",
    "</div>"
   ]
  },
  {
   "cell_type": "markdown",
   "id": "993673b9",
   "metadata": {},
   "source": [
    "### Dynamic scoping\n",
    "\n",
    "Bash uses a technique called *dynamic scoping* to determine visibility of variables. Dynamic scoping is uncommon\n",
    "in modern languages so most readers of this document are likely unfamiliar with the concept. The Bash documentation\n",
    "(https://www.gnu.org/software/bash/manual/html_node/Shell-Functions.html#Shell-Functions) says the following: \n",
    "\n",
    "> With dynamic scoping, visible variables and their values are a result of the sequence of function calls that\n",
    "> caused execution to reach the current function.\n",
    "\n",
    "This means that if a script creates a variable `a` and then calls a function `f()`, then the variable `a` is\n",
    "visible in the called function. If `f()` changes the value of `a` then the caller will see the changed value\n",
    "of `a`. The following script illustrates dynamic scoping:\n",
    "\n",
    "---\n",
    "```sh\n",
    "#!/bin/bash\n",
    "\n",
    "# dynamic_scope.sh\n",
    "\n",
    "f() {\n",
    "    echo \"  a at beginning of f()   = $a\"\n",
    "    a=\"f: hello\"\n",
    "    g\n",
    "    echo \"  a at end of f()         = $a\"\n",
    "    echo \"  b at end of f()         = $b\"\n",
    "}\n",
    "\n",
    "g() {\n",
    "    echo \"    a at beginning of g() = $a\"\n",
    "    b=\"g: goodbye\"\n",
    "    echo \"    a at end of g()       = $a\"\n",
    "}\n",
    "\n",
    "a=\"hello\"\n",
    "echo \"a before calling f()      = $a\"\n",
    "f\n",
    "echo \"a after calling f()       = $a\"\n",
    "echo \"b after calling f()       = $b\"\n",
    "\n",
    "```\n",
    "---"
   ]
  },
  {
   "cell_type": "code",
   "execution_count": null,
   "id": "9f6344a3",
   "metadata": {},
   "outputs": [],
   "source": [
    "./scripts/functions/dynamic_scope.sh "
   ]
  },
  {
   "cell_type": "markdown",
   "id": "c324b315",
   "metadata": {},
   "source": [
    "We can trace the visibility of the variables `a` and `b`:\n",
    "\n",
    "1. `a` is assigned the value `hello` in the main body of the script\n",
    "2. the main body of the script calls the function `f()`. `a` is visible in `f()`\n",
    "3. the function `f()` assigns `a` the value `f: hello`\n",
    "4. `f()` calls `g()`. `a` is visible in `g()`\n",
    "5. `g()` creates the variable `b`\n",
    "6. after `g()` returns, the variable `b` is visible in `f()`\n",
    "7. after `f()` returns, the variable `b` is visible in the main body of the script\n",
    "\n",
    "Dynamic scoping can be used to simulate returning a value or values from a function in two different\n",
    "ways. In the function:\n",
    "\n",
    "1. assign the return values to variables that were visible to the caller\n",
    "    * the caller uses those variables to access the return values\n",
    "2. create new (non-local) variables and assign the return values to the new variables\n",
    "    * the caller uses the new variables to access the return values\n",
    "    \n",
    "We can re-write the `max.sh` script so that the `max2()` function assigns the greater of its two arguments\n",
    "to the variable `hi`:\n",
    "\n",
    "---\n",
    "```sh\n",
    "#!/bin/bash\n",
    "\n",
    "# remax.sh\n",
    "\n",
    "# prints the maximum of two integer arguments\n",
    "# prints the first integer if both values are equal\n",
    "max2() {\n",
    "    if (( $1 >= $2 )); then\n",
    "        hi=$1\n",
    "    else\n",
    "        hi=$2\n",
    "    fi\n",
    "}\n",
    "\n",
    "# exits with 0 if argument is an integer, 1 otherwise\n",
    "is_int() {\n",
    "    if [[ $1 =~ ^[-+]?[0-9]+$ ]]; then \n",
    "        return 0\n",
    "    else\n",
    "        return 1\n",
    "    fi\n",
    "}\n",
    "\n",
    "\n",
    "if (( $# == 0 )); then \n",
    "    exit 1\n",
    "fi\n",
    "if is_int \"$1\"; then \n",
    "    hi=$1\n",
    "else \n",
    "    exit 2\n",
    "fi\n",
    "while (( $# > 0 )); do\n",
    "    if is_int \"$1\"; then \n",
    "        max2 $hi $1\n",
    "    else\n",
    "        exit 2\n",
    "    fi\n",
    "    shift\n",
    "done\n",
    "echo $hi\n",
    "```\n",
    "---"
   ]
  },
  {
   "cell_type": "code",
   "execution_count": null,
   "id": "a6837cca",
   "metadata": {},
   "outputs": [],
   "source": [
    "./scripts/functions/remax.sh 5 10 1"
   ]
  },
  {
   "cell_type": "markdown",
   "id": "c540ae7a",
   "metadata": {},
   "source": [
    "### Local variables\n",
    "\n",
    "To restrict the scope of a variable to a single function (and, unfortunately, to any\n",
    "function called by that function) use the `local` builtin command. Local variables allow a function\n",
    "to use variables without accidently overwriting variables defined in the main script. Consider the\n",
    "following script that contains a loop that appears should run for 10 iterations:"
   ]
  },
  {
   "cell_type": "code",
   "execution_count": null,
   "id": "610a9358",
   "metadata": {},
   "outputs": [],
   "source": [
    "some_function() {\n",
    "    i=100\n",
    "}\n",
    "\n",
    "for (( i = 0; i < 10; i++ )); do\n",
    "    echo $i\n",
    "    some_function\n",
    "done"
   ]
  },
  {
   "cell_type": "markdown",
   "id": "812be2a9",
   "metadata": {},
   "source": [
    "`some_function` sets the value of `i` which unfortunately is the name of the loop variable used in the\n",
    "main script. This causes the loop to iterate only once. If `some_function` declares `i` to be local, then\n",
    "a new variable named `i` is created which is visible only to `some_function` and any function that \n",
    "`some_function` calls:"
   ]
  },
  {
   "cell_type": "code",
   "execution_count": null,
   "id": "186e64a7",
   "metadata": {},
   "outputs": [],
   "source": [
    "some_function() {\n",
    "    local i=100\n",
    "    # i in main script not affected\n",
    "}\n",
    "\n",
    "for (( i = 0; i < 10; i++ )); do\n",
    "    echo $i\n",
    "    some_function\n",
    "done"
   ]
  },
  {
   "cell_type": "markdown",
   "id": "ba31b2ad",
   "metadata": {},
   "source": [
    "The local variable `i` is visible to any function that `some_function` calls. For example, `some_other_function`\n",
    "is able to see (and modify) the local variable `i` that `some_function` declared:"
   ]
  },
  {
   "cell_type": "code",
   "execution_count": null,
   "id": "3ad41fd6",
   "metadata": {},
   "outputs": [],
   "source": [
    "some_function() {\n",
    "    local i=100\n",
    "    some_other_function\n",
    "}\n",
    "\n",
    "some_other_function() {\n",
    "    echo \"some_other_function i = $i\"\n",
    "}\n",
    "\n",
    "for (( i = 0; i < 10; i++ )); do\n",
    "    echo $i\n",
    "    some_function\n",
    "done"
   ]
  },
  {
   "cell_type": "code",
   "execution_count": null,
   "id": "e48ea9f4",
   "metadata": {},
   "outputs": [],
   "source": []
  }
 ],
 "metadata": {
  "kernelspec": {
   "display_name": "Calysto Bash",
   "language": "bash",
   "name": "calysto_bash"
  },
  "language_info": {
   "file_extension": ".sh",
   "help_links": [
    {
     "text": "MetaKernel Magics",
     "url": "https://metakernel.readthedocs.io/en/latest/source/README.html"
    }
   ],
   "mimetype": "text/x-sh",
   "name": "bash",
   "version": "0.2.2"
  }
 },
 "nbformat": 4,
 "nbformat_minor": 5
}
