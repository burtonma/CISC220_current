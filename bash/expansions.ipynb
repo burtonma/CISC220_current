{
 "cells": [
  {
   "cell_type": "markdown",
   "id": "21f6c05f",
   "metadata": {},
   "source": [
    "# Expansions\n",
    "\n",
    "Individual words and operators on the command line are called tokens. The shell performs expansions on the\n",
    "tokens replacing the token with a new string or strings.\n",
    "\n",
    "There are seven kinds of expansions:\n",
    "\n",
    "1. brace expansion\n",
    "2. tilde expansion\n",
    "3. parameter expansion\n",
    "4. command substitution (same precedence as arithmetic expansion)\n",
    "5. arithmetic expansion (same precedence as command substitution)\n",
    "6. word splitting\n",
    "7. filename expansion\n",
    "\n",
    "The list above shows the order in which expansions are performed (4 and 5 have the same precedence, such\n",
    "expansions are performed left to right if two or more such expansions are part of the same command line).\n",
    "\n",
    "<div class=\"alert alert-block alert-info\">\n",
    "    This code in this notebook assumes that the current working directory is \n",
    "    <code>./scripts/expansions</code>. Run the next cell once when using this notebook.\n",
    "    <br /><br />\n",
    "    If you see errors related to missing files then the working directory is probably incorrect.\n",
    "</div>"
   ]
  },
  {
   "cell_type": "code",
   "execution_count": null,
   "id": "25e84d87",
   "metadata": {},
   "outputs": [],
   "source": [
    "# run exactly once before using this notebook\n",
    "cd scripts/expansions"
   ]
  },
  {
   "cell_type": "markdown",
   "id": "f31f0330",
   "metadata": {},
   "source": [
    "## Brace expansion\n",
    "\n",
    "Brace expansion is a mechanism for generating strings that follow a pattern.\n",
    "Brace expansion has the form *pre*`{`*expression*`}`*post* where:\n",
    "\n",
    "* *pre* is called the preamble and is optional\n",
    "* *post* is called the postscript and is optional\n",
    "* *expression* is either\n",
    "    * a series of two or more comma separated strings, or\n",
    "    * a sequence expression\n",
    "\n",
    "The preamble is the string that appears at the beginning of every generated string.\n",
    "The postscript is the the string that appears at the end of every generated string.\n",
    "The *expression* generates the part between the preamble and postscript of every generated string.\n"
   ]
  },
  {
   "cell_type": "code",
   "execution_count": null,
   "id": "9e9652df",
   "metadata": {},
   "outputs": [],
   "source": [
    "echo {a,b,c}"
   ]
  },
  {
   "cell_type": "code",
   "execution_count": null,
   "id": "4a943714",
   "metadata": {},
   "outputs": [],
   "source": [
    "echo before_{and,\\&,also}_after"
   ]
  },
  {
   "cell_type": "markdown",
   "id": "1e87060c",
   "metadata": {},
   "source": [
    "A sequence expression has the form `x..y..incr` where `x` and `y` are integers or single characters\n",
    "and `incr` is the optional integer increment (step size):"
   ]
  },
  {
   "cell_type": "code",
   "execution_count": null,
   "id": "70e6f21b",
   "metadata": {},
   "outputs": [],
   "source": [
    "echo {0..9}"
   ]
  },
  {
   "cell_type": "code",
   "execution_count": null,
   "id": "fdd18e56",
   "metadata": {},
   "outputs": [],
   "source": [
    "echo {9..0}"
   ]
  },
  {
   "cell_type": "code",
   "execution_count": null,
   "id": "75400515",
   "metadata": {},
   "outputs": [],
   "source": [
    "echo {10..20..2}"
   ]
  },
  {
   "cell_type": "code",
   "execution_count": null,
   "id": "350ce325",
   "metadata": {},
   "outputs": [],
   "source": [
    "echo {a..g}"
   ]
  },
  {
   "cell_type": "code",
   "execution_count": null,
   "id": "895a6d65",
   "metadata": {},
   "outputs": [],
   "source": [
    "echo {a..z..2}"
   ]
  },
  {
   "cell_type": "markdown",
   "id": "ebe05cbf",
   "metadata": {},
   "source": [
    "Brace expansions can be used to create files or directories named using year-month:"
   ]
  },
  {
   "cell_type": "code",
   "execution_count": null,
   "id": "b91ae51e",
   "metadata": {},
   "outputs": [],
   "source": [
    "mkdir {2019..2022}-{01..12}\n",
    "ls"
   ]
  },
  {
   "cell_type": "markdown",
   "id": "f23239d8",
   "metadata": {},
   "source": [
    "We can create the files `file00.txt` through `file30.txt` with a brace expansion:"
   ]
  },
  {
   "cell_type": "code",
   "execution_count": null,
   "id": "d6fd5617",
   "metadata": {},
   "outputs": [],
   "source": [
    "touch file{00..30}.txt\n",
    "ls"
   ]
  },
  {
   "cell_type": "markdown",
   "id": "a2aaa762",
   "metadata": {},
   "source": [
    "The Bash manual gives the following example (slightly modified) that illustrates a nested brace expansion:"
   ]
  },
  {
   "cell_type": "code",
   "execution_count": null,
   "id": "d088eaad",
   "metadata": {},
   "outputs": [],
   "source": [
    "echo /usr/{ucb/{ex,edit},lib/{a,how_ex}}"
   ]
  },
  {
   "cell_type": "markdown",
   "id": "74990398",
   "metadata": {},
   "source": [
    "## Tilde expansion\n",
    "\n",
    "In an earlier notebook, it was mentioned that `~` expands to the absolute path of the user's \n",
    "home directory."
   ]
  },
  {
   "cell_type": "code",
   "execution_count": null,
   "id": "dec656a1",
   "metadata": {},
   "outputs": [],
   "source": [
    "echo ~"
   ]
  },
  {
   "cell_type": "markdown",
   "id": "e6c53075",
   "metadata": {},
   "source": [
    "If there are multiple users on your system, then `~`*username* expands to the absolute path\n",
    "of the home directory of *username*: "
   ]
  },
  {
   "cell_type": "code",
   "execution_count": null,
   "id": "3f1921fd",
   "metadata": {},
   "outputs": [],
   "source": [
    "echo ~cisc220"
   ]
  },
  {
   "cell_type": "markdown",
   "id": "f66ab402",
   "metadata": {},
   "source": [
    "## Parameter expansion\n",
    "\n",
    "Parameter expansion occurs when accessing the value of a variable or parameter.\n",
    "\n",
    "See the *Variables* notebook."
   ]
  },
  {
   "cell_type": "markdown",
   "id": "03ea019b",
   "metadata": {},
   "source": [
    "## Command substitution\n",
    "\n",
    "Command substitution allows the output of a command to replace the command itself. Command substitution\n",
    "has the form\n",
    "\n",
    "`$(`*command*`)`\n",
    "\n",
    "The *command* is executed in a subshell and the standard output of the command is substituted.\n",
    "Command substitution is used to store the output of a command in a variable. The following\n",
    "example is from https://mywiki.wooledge.org/CommandSubstitution"
   ]
  },
  {
   "cell_type": "code",
   "execution_count": null,
   "id": "0267f664",
   "metadata": {},
   "outputs": [],
   "source": [
    "echo \"Today is $(date +%A), it's $(date +%H:%M)\""
   ]
  },
  {
   "cell_type": "markdown",
   "id": "d4bad0bb",
   "metadata": {},
   "source": [
    "In the above example, the output of the two `date` commands are substituted into the string printed\n",
    "by `echo` using command substitutions.\n",
    "\n",
    "The output of the `cowsay` command can be saved in a variable like so:"
   ]
  },
  {
   "cell_type": "code",
   "execution_count": null,
   "id": "89e14c43",
   "metadata": {},
   "outputs": [],
   "source": [
    "moo=$(cowsay \"Mooooo!\")"
   ]
  },
  {
   "cell_type": "markdown",
   "id": "a34a9c1d",
   "metadata": {},
   "source": [
    "Running the previous cell produces no output because the output of `cowsay` is saved in the variable `moo`\n",
    "instead of being sent to standard output. Of course, the value of `moo` can be printed or used for some\n",
    "other computation:"
   ]
  },
  {
   "cell_type": "code",
   "execution_count": null,
   "id": "9dd02be6",
   "metadata": {},
   "outputs": [],
   "source": [
    "echo \"$moo\""
   ]
  },
  {
   "cell_type": "markdown",
   "id": "e0719781",
   "metadata": {},
   "source": [
    "## Arithmetic expansion\n",
    "\n",
    "Arithmetic expansion has the form:\n",
    "\n",
    "`$((` *expression* `)`\n",
    "\n",
    "where *expression* is an integer arithmetic expression. The arithmetic expansion is evaluated and the value\n",
    "is substituted."
   ]
  },
  {
   "cell_type": "code",
   "execution_count": null,
   "id": "333d89a8",
   "metadata": {},
   "outputs": [],
   "source": [
    "echo $(( 1 + 1 ))"
   ]
  },
  {
   "cell_type": "code",
   "execution_count": null,
   "id": "838d179e",
   "metadata": {},
   "outputs": [],
   "source": [
    "# silly example\n",
    "mkdir dir$((2 * 5))\n",
    "ls"
   ]
  },
  {
   "cell_type": "markdown",
   "id": "41dab939",
   "metadata": {},
   "source": [
    "Arithmetic expansions are somewhat uncommon when using the command line, but are frequently\n",
    "used in scripts. See the *Arithmetic* notebook for details."
   ]
  },
  {
   "cell_type": "markdown",
   "id": "90053b77",
   "metadata": {},
   "source": [
    "## Word splitting\n",
    "\n",
    "After all of the previous expansions have occurred, anything not inside double quotes undergoes word splitting.\n",
    "Word splitting splits a string into separate parts or fields where each field is delimited by one or more\n",
    "field separator characters. Word splitting results in a sequence (list) of one or more fields.\n",
    "\n",
    "The default field separator characters are the space, the tab character, and the\n",
    "newline character.\n",
    "\n",
    "The occurrence of word splitting is why spaces are discouraged in filenames. You may have noticed the file\n",
    "with name `CISC220 Assignment solutions.zip`. If you try to unzip the file like so:"
   ]
  },
  {
   "cell_type": "code",
   "execution_count": null,
   "id": "f4e57385",
   "metadata": {},
   "outputs": [],
   "source": [
    "unzip CISC220 Assignment solutions.zip"
   ]
  },
  {
   "cell_type": "markdown",
   "id": "bd9b3e41",
   "metadata": {},
   "source": [
    "you will see that the `unzip` program complains that it cannot find the file `CISC220`. Word splitting has\n",
    "resulted in the filename being broken up into three separate words: `CISC220`, `Assignment`, and `solutions.zip`.\n",
    "Quoting or escaping the spaces in the filename are needed to suppress word splitting."
   ]
  },
  {
   "cell_type": "markdown",
   "id": "1a2dcb50",
   "metadata": {},
   "source": [
    "The shell uses the *internal field separator*\n",
    "variable `IFS` to store the field separator characters. By default `IFS` contains \n",
    "the characters corresponding to the space, tab, and newline characters. Each character currently stored in `IFS`\n",
    "is considered to be a valid field separator. If two or more field separator characters occur adjacent to\n",
    "each other then the shell treats them as a single field separator.\n",
    "\n",
    "Note that word splitting occurs after all other expansions except for filename expansion. This can cause\n",
    "surprising results. Consider the following string containing multiple default field separators:"
   ]
  },
  {
   "cell_type": "code",
   "execution_count": null,
   "id": "61d34353",
   "metadata": {},
   "outputs": [],
   "source": [
    "str=\"field1    field2       field3\n",
    "\n",
    "\n",
    "field4\""
   ]
  },
  {
   "cell_type": "markdown",
   "id": "a791cf3e",
   "metadata": {},
   "source": [
    "To use the value of `str` we use the parameter expansion `$str`; however, word splitting occurs *after\n",
    "the parameter expansion*. Try printing the value of `str` using echo:"
   ]
  },
  {
   "cell_type": "code",
   "execution_count": null,
   "id": "4911afe6",
   "metadata": {},
   "outputs": [],
   "source": [
    "echo $str"
   ]
  },
  {
   "cell_type": "markdown",
   "id": "a195500c",
   "metadata": {},
   "source": [
    "Notice that the multiple spaces between `field1` and `field2`, `field2` and `field3`, and the three newline\n",
    "characters between `field3` and `field4` are all replaced with a single space. "
   ]
  },
  {
   "cell_type": "markdown",
   "id": "d1f91e3e",
   "metadata": {},
   "source": [
    "It is sometimes useful\n",
    "to manipulate `IFS` to modify how word splitting is performed. For example, suppose that you have a string\n",
    "containing comma separated fields (in this case, a student number, last name, first name):"
   ]
  },
  {
   "cell_type": "code",
   "execution_count": null,
   "id": "1bc30923",
   "metadata": {},
   "outputs": [],
   "source": [
    "str=\"123456,Ester,Polly\""
   ]
  },
  {
   "cell_type": "markdown",
   "id": "fdbc0f72",
   "metadata": {},
   "source": [
    "By temporarily changing the value of `IFS` we can modify the behavior of word splitting:"
   ]
  },
  {
   "cell_type": "code",
   "execution_count": null,
   "id": "0bb73535",
   "metadata": {},
   "outputs": [],
   "source": [
    "# temporarily change IFS\n",
    "OLDIFS=$IFS\n",
    "IFS=\",\"\n",
    "\n",
    "echo $str\n",
    "\n",
    "# restore IFS so that word splitting behaves as normal\n",
    "IFS=$OLDIFS"
   ]
  },
  {
   "cell_type": "markdown",
   "id": "4fc5ebd5",
   "metadata": {},
   "source": [
    "The sequence of fields produced by word splitting can be processed using a `for` loop:"
   ]
  },
  {
   "cell_type": "code",
   "execution_count": null,
   "id": "094cb8f0",
   "metadata": {},
   "outputs": [],
   "source": [
    "# temporarily change IFS\n",
    "OLDIFS=$IFS\n",
    "IFS=\",\"\n",
    "\n",
    "for field in $str; do\n",
    "    echo $field\n",
    "done\n",
    "\n",
    "# restore IFS so that word splitting behaves as normal\n",
    "IFS=$OLDIFS"
   ]
  },
  {
   "cell_type": "markdown",
   "id": "c8662fcc",
   "metadata": {},
   "source": [
    "Alternatively, the list of fields can be passed to another command or function for processing.\n",
    "\n",
    "There are many rules describing the precise behavior of word splitting. These rules are described in https://www.gnu.org/software/bash/manual/html_node/Word-Splitting.html"
   ]
  },
  {
   "cell_type": "markdown",
   "id": "a96c66a1",
   "metadata": {},
   "source": [
    "## Filename expansion\n",
    "\n",
    "The last expansion that occurs is filename expansion that occurs when wildcards are used. See the *Filename expansion* notebook for details."
   ]
  },
  {
   "cell_type": "code",
   "execution_count": null,
   "id": "43d1be57",
   "metadata": {},
   "outputs": [],
   "source": []
  }
 ],
 "metadata": {
  "kernelspec": {
   "display_name": "Calysto Bash",
   "language": "bash",
   "name": "calysto_bash"
  },
  "language_info": {
   "file_extension": ".sh",
   "help_links": [
    {
     "text": "MetaKernel Magics",
     "url": "https://metakernel.readthedocs.io/en/latest/source/README.html"
    }
   ],
   "mimetype": "text/x-sh",
   "name": "bash",
   "version": "0.2.2"
  }
 },
 "nbformat": 4,
 "nbformat_minor": 5
}
