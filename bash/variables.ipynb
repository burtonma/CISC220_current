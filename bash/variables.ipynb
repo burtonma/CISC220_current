{
 "cells": [
  {
   "cell_type": "markdown",
   "id": "1932e577",
   "metadata": {},
   "source": [
    "# Variables\n",
    "\n",
    "In Bash, a variable is a parameter having a name that starts with a letter. A variable is simply a name\n",
    "that refers to a location in memory holding a piece of data.\n",
    "\n",
    "Bash defines a name to be: \"A word consisting solely of letters, numbers, and underscores, and beginning with a letter or underscore.\" (https://www.gnu.org/software/bash/manual/html_node/Definitions.html#index-name).\n",
    "We will use the convention that variable names be in all lower case and that multiword variable names\n",
    "may use the underscore to separate words.\n",
    "\n",
    "<div class=\"alert alert-block alert-info\">\n",
    "    You can find all of the scripts in this notebook in the subdirectory containing this notebook:\n",
    "    <code>./scripts/variables</code>\n",
    "</div>"
   ]
  },
  {
   "cell_type": "markdown",
   "id": "1d702d15",
   "metadata": {},
   "source": [
    "## Bash variables are untyped\n",
    "\n",
    "Bash variable values are essentially strings (a sequence of characters). Depending on context, a value \n",
    "may be treated as an integer if it\n",
    "contains only digits for the purposes of arithmetic and numerical comparisons.\n",
    "\n",
    "Bash does not support floating-point arithmetic. If you require a floating-point operation in a Bash script\n",
    "then you must use an external command to perform the operation."
   ]
  },
  {
   "cell_type": "markdown",
   "id": "e1b60669",
   "metadata": {},
   "source": [
    "### Variable declaration and parameter expansion\n",
    "\n",
    "There is no special syntax for declaring a variable name. Bash will create the variable when it is first used.\n",
    "\n",
    "To assign a value to a variable, use the assignment operator `=` making sure to have no spaces around the operator:"
   ]
  },
  {
   "cell_type": "code",
   "execution_count": null,
   "id": "33f453dd",
   "metadata": {},
   "outputs": [],
   "source": [
    "a=2                # assign string 2 to a\n",
    "b=\"some string\"    # double quotes suppress word breaking\n",
    "c=$a$b             # string concatenation"
   ]
  },
  {
   "cell_type": "code",
   "execution_count": null,
   "id": "0cde423d",
   "metadata": {},
   "outputs": [],
   "source": [
    "echo \"$c\" "
   ]
  },
  {
   "cell_type": "markdown",
   "id": "2fff9312",
   "metadata": {},
   "source": [
    "Notice that we use just the name of the variable when assigning a value to the variable. We use the `$` symbol\n",
    "in front of the variable name to obtain the value of the variable.\n",
    "\n",
    "\n",
    "<div class=\"alert alert-block alert-info\">\n",
    "    If <code>var</code> is the name of a variable then <code>&#36;var</code> or <code>&#36;{var}</code>\n",
    "    is a reference to the value stored in the variable.<br />\n",
    "</div>\n",
    "\n",
    "Why do shells require a special character when referencing a variable? Recall that shells mostly\n",
    "deal with strings so we require some way to distinguish between a string and a variable reference.\n",
    "\n",
    "Referencing the value of a parameter or variable is called *parameter expansion* or\n",
    "*variable expansion* in Bash. In the expansion `${var}`,\n",
    "the value of the variable `var` is substituted for the expansion `${var}`. The following snippet\n",
    "prints `Welcom, USER`:"
   ]
  },
  {
   "cell_type": "code",
   "execution_count": null,
   "id": "0bea096f",
   "metadata": {},
   "outputs": [],
   "source": [
    "msg=\"Welcome, USER\"\n",
    "echo \"$msg\""
   ]
  },
  {
   "cell_type": "markdown",
   "id": "ee5c8e39",
   "metadata": {},
   "source": [
    "whereas the following snippet prints a greeting using the current user's username:"
   ]
  },
  {
   "cell_type": "code",
   "execution_count": null,
   "id": "6e45f16c",
   "metadata": {},
   "outputs": [],
   "source": [
    "msg=\"Welcome, $USER\"\n",
    "echo \"$msg\""
   ]
  },
  {
   "cell_type": "markdown",
   "id": "1ec6b718",
   "metadata": {},
   "source": [
    "Referencing the value of a parameter or variable is called *parameter expansion* or\n",
    "*variable expansion* in Bash. In the expansion `${var}`,\n",
    "the value of the variable `var` is substituted for the expansion `${var}`. The expression:\n",
    "\n",
    "\n",
    "```sh\n",
    "c=${a}${b}\n",
    "```\n",
    "\n",
    "contains two variable expansions which after substitution becomes:\n",
    "\n",
    "```sh\n",
    "c=2\"some string\"\n",
    "```\n",
    "\n",
    "The notation `$var` is the simplified form of `${var}`. In certain contexts, `$var` leads to an incorrect\n",
    "result that can be avoided using the long form `${var}`.\n",
    "\n",
    "We can print the values stored in our variables as shown below:"
   ]
  },
  {
   "cell_type": "code",
   "execution_count": null,
   "id": "436b1d3d",
   "metadata": {},
   "outputs": [],
   "source": [
    "echo $a\n",
    "echo $b\n",
    "echo $c"
   ]
  },
  {
   "cell_type": "markdown",
   "id": "fff6dac8",
   "metadata": {},
   "source": [
    "Notice that we require variable expansion in the example above because we want the values\n",
    "stored in the variables. Without the\n",
    "`$` symbol, `a`, `b`, and `c` are simply the strings `a`, `b`, and `c`: "
   ]
  },
  {
   "cell_type": "code",
   "execution_count": null,
   "id": "83b8b15d",
   "metadata": {},
   "outputs": [],
   "source": [
    "echo a\n",
    "echo b\n",
    "echo c"
   ]
  },
  {
   "cell_type": "markdown",
   "id": "a8392de6",
   "metadata": {},
   "source": [
    "### Bash creates variables when they are first used\n",
    "\n",
    "Bash creates variables when they are first used. Unlike many other programming languages, it is not an error\n",
    "to attempt to get the value of a variable that has not yet been declared. The following is legal in Bash\n",
    "(unless your shell has been configured otherwise):"
   ]
  },
  {
   "cell_type": "code",
   "execution_count": null,
   "id": "636da034",
   "metadata": {},
   "outputs": [],
   "source": [
    "# y is undefined the first time that this cell is run\n",
    "x=$y    # works!\n",
    "echo $x"
   ]
  },
  {
   "cell_type": "markdown",
   "id": "14fe3620",
   "metadata": {},
   "source": [
    "The example above attempts to assign the value of the unset variable `y` to `x`. Bash creates the variable\n",
    "`y`, assigns the empty string to `y`, and then assigns the value of `y` to `x`.\n",
    "\n",
    "The automatic creation of unset variables is why the expansion `${var}` instead of simply `$var` is sometimes required. Consider the following script that creates a backup of a file by copying an existing file to\n",
    "a new file; the new file is named the same as the original file but adds the extension `_.bak` to the end\n",
    "of the filename (e.g., if the original file is named `abc` then the backup file is named `abc_.bak`):"
   ]
  },
  {
   "cell_type": "code",
   "execution_count": null,
   "id": "320e70cd",
   "metadata": {},
   "outputs": [],
   "source": [
    "#!/bin/bash\n",
    "\n",
    "# bad_backup.sh\n",
    "in=\"$1\"\n",
    "out=\"$in_.bak\"\n",
    "cp \"$in\" \"$out\""
   ]
  },
  {
   "cell_type": "markdown",
   "id": "9a9f6436",
   "metadata": {},
   "source": [
    "The following cell runs `bad_backup.sh` with a file named `my file` and then lists the contents of the directory:"
   ]
  },
  {
   "cell_type": "code",
   "execution_count": null,
   "id": "026ec83d",
   "metadata": {},
   "outputs": [],
   "source": [
    "touch \"my file\"\n",
    "./scripts/variables/bad_backup.sh \"my file\"\n",
    "ls -A"
   ]
  },
  {
   "cell_type": "markdown",
   "id": "d4ed552e",
   "metadata": {},
   "source": [
    "Instead of creating the backup file named `my file_.bak` the script creates the backup file named `.bak`. The\n",
    "error in the script is the line:\n",
    "\n",
    "```sh\n",
    "out=\"$in_.bak\"\n",
    "```\n",
    "\n",
    "The identifier `in_` is a valid variable name, thus Bash creates the variable named `in_` and assigns the empty\n",
    "string to it, resulting in `out` getting the value `.bak`. A solution is to use braces around the name\n",
    "`in` to indicate the correct variable expansion:\n",
    "\n",
    "```sh\n",
    "out=\"${in}_.bak\"\n",
    "```\n",
    "\n",
    "The corrected script `backup.sh` runs as expected:"
   ]
  },
  {
   "cell_type": "code",
   "execution_count": null,
   "id": "c3dd53e9",
   "metadata": {},
   "outputs": [],
   "source": [
    "./scripts/variables/backup.sh \"my file\"\n",
    "ls -A"
   ]
  },
  {
   "cell_type": "markdown",
   "id": "942c0341",
   "metadata": {},
   "source": [
    "### Expansion results can be stored in a variable\n",
    "\n",
    "Expansions in Bash produce strings. The following cell outputs the results\n",
    "of various expansions we have seen so far:"
   ]
  },
  {
   "cell_type": "code",
   "execution_count": null,
   "id": "cdad7be5",
   "metadata": {},
   "outputs": [],
   "source": [
    "echo \"the \"{good,bad,ugly}          # brace expansion\n",
    "echo {2020..2029..3}                # brace expansion sequence expresssion\n",
    "echo *ipynb                         # filename expansion\n",
    "\n",
    "echo ~                              # tilde expansion\n",
    "x=\"some string\"\n",
    "echo $x                             # parameter expansion\n",
    "echo $(( 1 + 2 ))                   # arithmetic expansion"
   ]
  },
  {
   "cell_type": "markdown",
   "id": "5b0df626",
   "metadata": {},
   "source": [
    "Some of the strings produced by the above expansions can be stored in variables if needed. In an assignment statement, values on the right-hand side of\n",
    "the `=` operator undergo:\n",
    "\n",
    "* tilde expansion,\n",
    "* parameter expansion,\n",
    "* command substitution, and\n",
    "* arithmetic expansion\n",
    "\n",
    "Brace expansion and filename expansion are not performed in an assignment\n",
    "statement; therefore, the results of such expansions cannot be stored\n",
    "in a variable. Consider the following examples:"
   ]
  },
  {
   "cell_type": "code",
   "execution_count": null,
   "id": "643e8de4",
   "metadata": {},
   "outputs": [],
   "source": [
    "movie=\"the \"{good,bad,ugly}          # brace expansion?\n",
    "yrs={2020..2029..3}                  # brace expansion sequence expresssion?\n",
    "notebooks=*ipynb                     # filename expansion?\n",
    "\n",
    "echo \"movie title            : $movie\"\n",
    "echo \"some years             : $yrs\"\n",
    "echo \"Jupyter notebook files : $notebooks\""
   ]
  },
  {
   "cell_type": "markdown",
   "id": "3e7b1de1",
   "metadata": {},
   "source": [
    "Notice that printing the values of the variables demonstrates that the\n",
    "expansions do not occur during the assignment.\n",
    "\n",
    "The result of tilde expansion, parameter expansion, command substitution,\n",
    "and arithmetic expansion can assigned to a variable:"
   ]
  },
  {
   "cell_type": "code",
   "execution_count": null,
   "id": "c4bf1ae0",
   "metadata": {},
   "outputs": [],
   "source": [
    "homedir=~                    # tilde expansion\n",
    "\n",
    "x=\"some string\"\n",
    "y=\"this is \"$x               # parameter expansion\n",
    "\n",
    "moo=$(cowsay \"CISC220\")      # command substitution\n",
    "\n",
    "sum=$(( 5 + 3 ))             # arithmetic expansion\n",
    "\n",
    "echo \"home dir = $homedir\"\n",
    "echo \"y        = $y\"\n",
    "echo \"moo      = $moo\"\n",
    "echo \"sum      = $sum\""
   ]
  }
 ],
 "metadata": {
  "kernelspec": {
   "display_name": "Bash",
   "language": "bash",
   "name": "bash"
  },
  "language_info": {
   "codemirror_mode": "shell",
   "file_extension": ".sh",
   "mimetype": "text/x-sh",
   "name": "bash"
  }
 },
 "nbformat": 4,
 "nbformat_minor": 5
}
